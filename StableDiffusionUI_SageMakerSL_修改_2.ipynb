{
 "cells": [
  {
   "attachments": {},
   "cell_type": "markdown",
   "metadata": {
    "tags": []
   },
   "source": [
    "\n",
    "\n",
    "# 适用于 SageMaker Studio Lab 的稳定扩散 WebUI (AUTOMATIC1111) 版\n",
    "# Stable Diffusion WebUI (AUTOMATIC1111) for SageMaker Studio Lab\n",
    "\n",
    "This notebook will install and run the [stable-diffusion-webui repository by AUTOMATIC1111](https://github.com/AUTOMATIC1111/stable-diffusion-webui) on SageMaker Studio Lab\n",
    "\n",
    "### 本笔记本将在SageMaker Studio Lab上安装和运行[由AUTOMATIC1111维护的stable-diffusion-webui库](https://github.com/AUTOMATIC1111/stable-diffusion-webui)。\n",
    "\n",
    "With the default model you can run textual inversion training, hypernetwork training and image generation, but no native training\n",
    "\n",
    "使用默认模型，您可以运行文本倒置训练、超网络训练和图像生成，但无法进行本地训练。\n",
    "\n",
    "You will need a ngrok (reverse proxy) auth token to run it, as gradio sharing doesn't work on SageMaker Studio Lab\n",
    "\n",
    "您需要一个ngrok（反向代理）身份验证令牌才能运行它，因为gradio共享在SageMaker Studio Lab上不起作用。\n",
    "\n",
    "If you don't have a ngrok account yet, create one here: https://dashboard.ngrok.com/signup\n",
    "\n",
    "如果您尚未拥有ngrok帐户，请在此处创建一个：https://dashboard.ngrok.com/signup\n",
    "\n",
    "It's free for non-commercial use\n",
    "\n",
    "对于非商业用途，它是免费的。\n",
    "\n",
    "If you use the default model, you will also need a Huggingface user token. Alternatively you can download a model from Google Drive or MEGA, without needing a Huggingface token\n",
    "\n",
    "如果您使用默认模型，您还需要一个Huggingface用户令牌。或者，您可以从Google Drive或MEGA下载一个模型，而无需使用Huggingface令牌。"
   ]
  },
  {
   "cell_type": "markdown",
   "metadata": {},
   "source": [
    "\n",
    "# 适用于 SageMaker Studio Lab 的稳定扩散 WebUI (AUTOMATIC1111) 版\n",
    "\n",
    "This notebook will install and run the [stable-diffusion-webui repository by AUTOMATIC1111](https://github.com/AUTOMATIC1111/stable-diffusion-webui) on SageMaker Studio Lab\n",
    "\n",
    "本笔记本将在SageMaker Studio Lab上安装和运行[由AUTOMATIC1111维护的stable-diffusion-webui库](https://github.com/AUTOMATIC1111/stable-diffusion-webui)。\n",
    "\n",
    "With the default model you can run textual inversion training, hypernetwork training and image generation, but no native training\n",
    "\n",
    "使用默认模型，您可以运行文本倒置训练、超网络训练和图像生成，但无法进行本地训练。\n",
    "\n",
    "You will need a ngrok (reverse proxy) auth token to run it, as gradio sharing doesn't work on SageMaker Studio Lab\n",
    "\n",
    "您需要一个ngrok（反向代理）身份验证令牌才能运行它，因为gradio共享在SageMaker Studio Lab上不起作用。\n",
    "\n",
    "If you don't have a ngrok account yet, create one here: https://dashboard.ngrok.com/signup\n",
    "\n",
    "如果您尚未拥有ngrok帐户，请在此处创建一个：https://dashboard.ngrok.com/signup\n",
    "\n",
    "It's free for non-commercial use\n",
    "\n",
    "对于非商业用途，它是免费的。\n",
    "\n",
    "If you use the default model, you will also need a Huggingface user token. Alternatively you can download a model from Google Drive or MEGA, without needing a Huggingface token\n",
    "\n",
    "如果您使用默认模型，您还需要一个Huggingface用户令牌。或者，您可以从Google Drive或MEGA下载一个模型，而无需使用Huggingface令牌。"
   ]
  },
  {
   "cell_type": "markdown",
   "metadata": {
    "id": "OHCtG9MT0jLq",
    "tags": []
   },
   "source": [
    "# Installation: Clone webui repository\n",
    "***You only need to do this once on your SageMaker SL account***"
   ]
  },
  {
   "cell_type": "code",
   "execution_count": 5,
   "metadata": {
    "id": "sBbcB4vwj_jm"
   },
   "outputs": [
    {
     "name": "stdout",
     "output_type": "stream",
     "text": [
      "/home/studio-lab-user/sagemaker-studiolab-notebooks\n",
      "Cloning into 'stable-diffusion-webui'...\n",
      "remote: Enumerating objects: 229, done.\u001b[K\n",
      "remote: Counting objects: 100% (229/229), done.\u001b[K\n",
      "remote: Compressing objects: 100% (209/209), done.\u001b[K\n",
      "remote: Total 229 (delta 10), reused 127 (delta 9), pack-reused 0\u001b[K\n",
      "Receiving objects: 100% (229/229), 1.39 MiB | 16.00 MiB/s, done.\n",
      "Resolving deltas: 100% (10/10), done.\n",
      "'stable-diffusion-webui/outputs' -> '/tmp/outputs'\n",
      "'/home/studio-lab-user/sagemaker-studiolab-notebooks/tmp' -> '/tmp'\n",
      "'stable-diffusion-webui/models/Stable-diffusion/tmp_models' -> '/tmp/models'\n",
      "/home/studio-lab-user/sagemaker-studiolab-notebooks/stable-diffusion-webui\n",
      "--2023-02-23 05:12:37--  https://raw.githubusercontent.com/Miraculix200/StableDiffusionUI_Colab/main/config.json\n",
      "Resolving raw.githubusercontent.com (raw.githubusercontent.com)... 185.199.111.133, 185.199.108.133, 185.199.109.133, ...\n",
      "Connecting to raw.githubusercontent.com (raw.githubusercontent.com)|185.199.111.133|:443... connected.\n",
      "HTTP request sent, awaiting response... 200 OK\n",
      "Length: 3800 (3.7K) [text/plain]\n",
      "Saving to: 'config.json'\n",
      "\n",
      "config.json         100%[===================>]   3.71K  --.-KB/s    in 0s      \n",
      "\n",
      "2023-02-23 05:12:37 (57.3 MB/s) - 'config.json' saved [3800/3800]\n",
      "\n",
      "--2023-02-23 05:12:37--  https://raw.githubusercontent.com/Miraculix200/StableDiffusionUI_Colab/main/ui-config.json\n",
      "Resolving raw.githubusercontent.com (raw.githubusercontent.com)... 185.199.110.133, 185.199.109.133, 185.199.108.133, ...\n",
      "Connecting to raw.githubusercontent.com (raw.githubusercontent.com)|185.199.110.133|:443... connected.\n",
      "HTTP request sent, awaiting response... 200 OK\n",
      "Length: 44526 (43K) [text/plain]\n",
      "Saving to: 'ui-config.json'\n",
      "\n",
      "ui-config.json      100%[===================>]  43.48K  --.-KB/s    in 0.008s  \n",
      "\n",
      "2023-02-23 05:12:37 (5.33 MB/s) - 'ui-config.json' saved [44526/44526]\n",
      "\n",
      "/home/studio-lab-user/sagemaker-studiolab-notebooks/stable-diffusion-webui/extensions\n",
      "Cloning into 'stable-diffusion-webui-images-browser'...\n",
      "remote: Enumerating objects: 9, done.\u001b[K\n",
      "remote: Counting objects: 100% (9/9), done.\u001b[K\n",
      "remote: Compressing objects: 100% (6/6), done.\u001b[K\n",
      "remote: Total 9 (delta 0), reused 4 (delta 0), pack-reused 0\u001b[K\n",
      "Unpacking objects: 100% (9/9), 7.83 KiB | 3.92 MiB/s, done.\n",
      "Cloning into 'stable-diffusion-webui-dataset-tag-editor'...\n",
      "remote: Enumerating objects: 40, done.\u001b[K\n",
      "remote: Counting objects: 100% (40/40), done.\u001b[K\n",
      "remote: Compressing objects: 100% (38/38), done.\u001b[K\n",
      "remote: Total 40 (delta 0), reused 20 (delta 0), pack-reused 0\u001b[K\n",
      "Unpacking objects: 100% (40/40), 2.55 MiB | 8.36 MiB/s, done.\n"
     ]
    }
   ],
   "source": [
    "%cd ~/sagemaker-studiolab-notebooks/\n",
    "!git clone --depth 1 https://github.com/AUTOMATIC1111/stable-diffusion-webui\n",
    "#create softlink to /tmp/outputs for storing images\n",
    "#contents of /tmp folder will be deleted when each session ends\n",
    "!ln -vs /tmp/outputs stable-diffusion-webui/outputs\n",
    "#create softlink to /tmp in ~/sagemaker-studiolab-notebooks/\n",
    "!ln -vs /tmp ~/sagemaker-studiolab-notebooks/tmp\n",
    "#create softlink to /tmp/models in stable-diffusion-webui/models/Stable-diffusion/\n",
    "!ln -vs /tmp/models stable-diffusion-webui/models/Stable-diffusion/tmp_models\n",
    "\n",
    "# change default settings (not necessary)\n",
    "%cd stable-diffusion-webui\n",
    "!wget https://raw.githubusercontent.com/Miraculix200/StableDiffusionUI_Colab/main/config.json\n",
    "!wget https://raw.githubusercontent.com/Miraculix200/StableDiffusionUI_Colab/main/ui-config.json\n",
    "learning_rate = \"5e-5:100, 5e-6:1500, 5e-7:2000, 5e-5:2100, 5e-7:3000, 5e-5:3100, 5e-7:4000, 5e-5:4100, 5e-7:5000, 5e-5:5100, 5e-7:6000, 5e-5:6100, 5e-7:7000, 5e-5:7100, 5e-7:8000, 5e-5:8100, 5e-7:9000, 5e-5:9100, 5e-7:10000, 5e-6:10100, 5e-8:11000, 5e-6:11100, 5e-8:12000, 5e-6:12100, 5e-8:13000, 5e-6:13100, 5e-8:14000, 5e-6:14100, 5e-8:15000, 5e-6:15100, 5e-8:16000, 5e-6:16100, 5e-8:17000, 5e-6:17100, 5e-8:18000, 5e-6:18100, 5e-8:19000, 5e-6:19100, 5e-8:20000, 5e-5:20100, 5e-7:21000, 5e-5:21100, 5e-7:22000, 5e-5:22100, 5e-7:23000, 5e-5:23100, 5e-7:24000, 5e-5:24100, 5e-7:25000, 5e-5:25100, 5e-7:26000, 5e-5:26100, 5e-7:27000, 5e-5:27100, 5e-7:28000, 5e-5:28100, 5e-7:29000, 5e-5:29100, 5e-7:30000, 5e-6:30100, 5e-8:31000, 5e-6:31100, 5e-8:32000, 5e-6:32100, 5e-8:33000, 5e-6:33100, 5e-8:34000, 5e-6:34100, 5e-8:35000, 5e-6:35100, 5e-8:36000, 5e-6:36100, 5e-8:37000, 5e-6:37100, 5e-8:38000, 5e-6:38100, 5e-8:39000, 5e-6:39100, 5e-8:40000\"\n",
    "!echo \"a photo of a [filewords]\" >textual_inversion_templates/hypernetwork2.txt\n",
    "#!sed -i 's/label=\"Use dropout\"/value=\"True\",label=\"Use dropout\"/' modules/ui.py\n",
    "#!sed -i 's/value=\"0.00001\"/value=\"{learning_rate}\"/' modules/ui.py\n",
    "#!sed -i -E 's/dataset_directory = gr.Textbox\\(/dataset_directory = gr.Textbox\\(value=\\\"\\/tmp\\/processed\\\", /' modules/ui.py\n",
    "#!sed -i 's/style_filewords.txt/hypernetwork2.txt/' modules/ui.py\n",
    "\n",
    "# install extensions (not necessary)\n",
    "%cd extensions\n",
    "!git clone --depth 1 https://github.com/yfszzx/stable-diffusion-webui-images-browser\n",
    "!git clone --depth 1 https://github.com/toshiaki1729/stable-diffusion-webui-dataset-tag-editor.git"
   ]
  },
  {
   "cell_type": "markdown",
   "metadata": {
    "id": "F0EINk5M0s-w",
    "tags": []
   },
   "source": [
    "# Installation: Download model(s) from Huggingface\n",
    "***You only need to do this once on your SageMaker SL account***\n",
    "\n",
    "Alternatively you can use the JupyterLab file browser to upload one or more .ckpt files to the `~/sagemaker-studiolab-notebooks/stable-diffusion-webui/models/Stable-diffusion/` folder\n",
    "\n",
    "There are optional model downloads below this cell, where a Huggingface token is not necessary\n",
    "\n",
    "To save disk space, you can move models to `/tmp/models` and restart the webui. These models will be deleted when the runtime ends"
   ]
  },
  {
   "cell_type": "markdown",
   "metadata": {
    "tags": []
   },
   "source": [
    "### Download model(s)\n"
   ]
  },
  {
   "cell_type": "markdown",
   "metadata": {
    "tags": []
   },
   "source": [
    "#### Check free disk space"
   ]
  },
  {
   "cell_type": "code",
   "execution_count": 6,
   "metadata": {},
   "outputs": [
    {
     "name": "stdout",
     "output_type": "stream",
     "text": [
      "Filesystem      Size  Used Avail Use% Mounted on\n",
      "/dev/nvme1n1     25G  1.5G   24G   6% /home/studio-lab-user\n"
     ]
    }
   ],
   "source": [
    "!df -h | grep -E 'Avail|home'"
   ]
  },
  {
   "cell_type": "markdown",
   "metadata": {
    "tags": []
   },
   "source": [
    "#### Huggingface token\n",
    "You only have to enter this once, as the token will persist in ~/.huggingface/token across sessions"
   ]
  },
  {
   "cell_type": "code",
   "execution_count": 7,
   "metadata": {
    "tags": []
   },
   "outputs": [
    {
     "data": {
      "application/vnd.jupyter.widget-view+json": {
       "model_id": "909f51614ab74ea88667bd93c077b95e",
       "version_major": 2,
       "version_minor": 0
      },
      "text/plain": [
       "Text(value='Enter Huggingface token here', description='Token:')"
      ]
     },
     "metadata": {},
     "output_type": "display_data"
    }
   ],
   "source": [
    "import ipywidgets as widgets\n",
    "\n",
    "token_textbox = widgets.Text(\n",
    "    value='Enter Huggingface token here',\n",
    "    description='Token:',\n",
    ")\n",
    "token_textbox"
   ]
  },
  {
   "cell_type": "markdown",
   "metadata": {},
   "source": [
    "The next cell will download model `v1-5-pruned-emaonly.ckpt` (4GB) \n",
    "\n",
    "This model can be used for training textual inversion embeddings and hypernetworks\n",
    "\n",
    "Comment out and uncomment lines in the next cell to download different models\n",
    "\n",
    "Go to these pages and ***accept the licenses*** before running the next cell:\n",
    "\n",
    "https://huggingface.co/runwayml/stable-diffusion-v1-5\n",
    "\n",
    "https://huggingface.co/CompVis/stable-diffusion-v-1-4-original\n",
    "\n",
    "https://huggingface.co/runwayml/stable-diffusion-inpainting"
   ]
  },
  {
   "cell_type": "code",
   "execution_count": 8,
   "metadata": {
    "id": "CT_J9L7oqLxG",
    "tags": []
   },
   "outputs": [
    {
     "name": "stdout",
     "output_type": "stream",
     "text": [
      "/home/studio-lab-user/sagemaker-studiolab-notebooks/stable-diffusion-webui/models/Stable-diffusion\n",
      "--2023-02-23 05:15:11--  https://huggingface.co/runwayml/stable-diffusion-v1-5/resolve/main/v1-5-pruned-emaonly.ckpt\n",
      "Resolving huggingface.co (huggingface.co)... 3.231.67.228, 54.235.118.239, 2600:1f18:147f:e800:671:b733:ecf3:a585, ...\n",
      "Connecting to huggingface.co (huggingface.co)|3.231.67.228|:443... connected.\n",
      "HTTP request sent, awaiting response... 302 Found\n",
      "Location: https://cdn-lfs.huggingface.co/repos/6b/20/6b201da5f0f5c60524535ebb7deac2eef68605655d3bbacfee9cce0087f3b3f5/cc6cb27103417325ff94f52b7a5d2dde45a7515b25c255d8e396c90014281516?response-content-disposition=attachment%3B+filename*%3DUTF-8%27%27v1-5-pruned-emaonly.ckpt%3B+filename%3D%22v1-5-pruned-emaonly.ckpt%22%3B&Expires=1677386234&Policy=eyJTdGF0ZW1lbnQiOlt7IlJlc291cmNlIjoiaHR0cHM6Ly9jZG4tbGZzLmh1Z2dpbmdmYWNlLmNvL3JlcG9zLzZiLzIwLzZiMjAxZGE1ZjBmNWM2MDUyNDUzNWViYjdkZWFjMmVlZjY4NjA1NjU1ZDNiYmFjZmVlOWNjZTAwODdmM2IzZjUvY2M2Y2IyNzEwMzQxNzMyNWZmOTRmNTJiN2E1ZDJkZGU0NWE3NTE1YjI1YzI1NWQ4ZTM5NmM5MDAxNDI4MTUxNj9yZXNwb25zZS1jb250ZW50LWRpc3Bvc2l0aW9uPSoiLCJDb25kaXRpb24iOnsiRGF0ZUxlc3NUaGFuIjp7IkFXUzpFcG9jaFRpbWUiOjE2NzczODYyMzR9fX1dfQ__&Signature=R%7EWI4hasiPU62xICJiJo06yEx-PSvTvrShFB5rLOyoPsM2gMA0BIDGRKej8uCUu4p1KjAu2JJftdBPL2CAZ706heBU1L6tVH469qigvMqlUTKZSONQQ1s3y1uijVYzR28z5WQ-VtLIBVfUTGU6OTq9VLTbFfScpqfE55Or0TABNzDKz881lBStua6yFAvShPCOUUFaFaLCVPBf0OYVIlWZ85P4-%7EJNAffpk2bETZ4QzWxNP-N2ySQVDVYkWdZUO%7EecG7ND4GFPTlxgQeS4lnBh1OVqVRwptzSLJdnHR8cfkgDBqo9-YKGrWMP4LjXBAig1ICipLvk89q5sXRAz3CYA__&Key-Pair-Id=KVTP0A1DKRTAX [following]\n",
      "--2023-02-23 05:15:11--  https://cdn-lfs.huggingface.co/repos/6b/20/6b201da5f0f5c60524535ebb7deac2eef68605655d3bbacfee9cce0087f3b3f5/cc6cb27103417325ff94f52b7a5d2dde45a7515b25c255d8e396c90014281516?response-content-disposition=attachment%3B+filename*%3DUTF-8''v1-5-pruned-emaonly.ckpt%3B+filename%3D%22v1-5-pruned-emaonly.ckpt%22%3B&Expires=1677386234&Policy=eyJTdGF0ZW1lbnQiOlt7IlJlc291cmNlIjoiaHR0cHM6Ly9jZG4tbGZzLmh1Z2dpbmdmYWNlLmNvL3JlcG9zLzZiLzIwLzZiMjAxZGE1ZjBmNWM2MDUyNDUzNWViYjdkZWFjMmVlZjY4NjA1NjU1ZDNiYmFjZmVlOWNjZTAwODdmM2IzZjUvY2M2Y2IyNzEwMzQxNzMyNWZmOTRmNTJiN2E1ZDJkZGU0NWE3NTE1YjI1YzI1NWQ4ZTM5NmM5MDAxNDI4MTUxNj9yZXNwb25zZS1jb250ZW50LWRpc3Bvc2l0aW9uPSoiLCJDb25kaXRpb24iOnsiRGF0ZUxlc3NUaGFuIjp7IkFXUzpFcG9jaFRpbWUiOjE2NzczODYyMzR9fX1dfQ__&Signature=R~WI4hasiPU62xICJiJo06yEx-PSvTvrShFB5rLOyoPsM2gMA0BIDGRKej8uCUu4p1KjAu2JJftdBPL2CAZ706heBU1L6tVH469qigvMqlUTKZSONQQ1s3y1uijVYzR28z5WQ-VtLIBVfUTGU6OTq9VLTbFfScpqfE55Or0TABNzDKz881lBStua6yFAvShPCOUUFaFaLCVPBf0OYVIlWZ85P4-~JNAffpk2bETZ4QzWxNP-N2ySQVDVYkWdZUO~ecG7ND4GFPTlxgQeS4lnBh1OVqVRwptzSLJdnHR8cfkgDBqo9-YKGrWMP4LjXBAig1ICipLvk89q5sXRAz3CYA__&Key-Pair-Id=KVTP0A1DKRTAX\n",
      "Resolving cdn-lfs.huggingface.co (cdn-lfs.huggingface.co)... 108.156.184.106, 108.156.184.64, 108.156.184.7, ...\n",
      "Connecting to cdn-lfs.huggingface.co (cdn-lfs.huggingface.co)|108.156.184.106|:443... connected.\n",
      "HTTP request sent, awaiting response... 200 OK\n",
      "Length: 4265380512 (4.0G) [binary/octet-stream]\n",
      "Saving to: 'v1-5-pruned-emaonly.ckpt'\n",
      "\n",
      "v1-5-pruned-emaonly 100%[===================>]   3.97G   194MB/s    in 22s     \n",
      "\n",
      "2023-02-23 05:15:33 (188 MB/s) - 'v1-5-pruned-emaonly.ckpt' saved [4265380512/4265380512]\n",
      "\n"
     ]
    }
   ],
   "source": [
    "huggingface_token = \"\"\n",
    "\n",
    "import os\n",
    "\n",
    "token_path = os.path.expanduser('~/.huggingface/token')\n",
    "\n",
    "if os.path.isfile(token_path):\n",
    "    with open(token_path) as f:\n",
    "        lines = f.readlines()\n",
    "    huggingface_token = lines[0]\n",
    "else:\n",
    "    try:\n",
    "        token_textbox\n",
    "    except NameError:\n",
    "        raise RuntimeError(\"Enter Huggingface token\")\n",
    "    else:\n",
    "        !mkdir -p ~/.huggingface\n",
    "        !echo -n \"{token_textbox.value}\" > ~/.huggingface/token\n",
    "        huggingface_token = token_textbox.value\n",
    "\n",
    "user_header = f\"\\\"Authorization: Bearer {huggingface_token}\\\"\"\n",
    "\n",
    "%cd ~/sagemaker-studiolab-notebooks/stable-diffusion-webui/models/Stable-diffusion/\n",
    "\n",
    "# Choose here which model(s) to download #############################################################################\n",
    "\n",
    "# Model 1.4\n",
    "#!wget --header={user_header} https://huggingface.co/CompVis/stable-diffusion-v-1-4-original/resolve/main/sd-v1-4.ckpt\n",
    "\n",
    "# Model 1.5 (8GB) - only necessary for native training, not for embeddings/hypernetworks\n",
    "#!wget --header={user_header} https://huggingface.co/runwayml/stable-diffusion-v1-5/resolve/main/v1-5-pruned.ckpt \n",
    "\n",
    "# Model 1.5 (4GB)\n",
    "!wget --header={user_header} https://huggingface.co/runwayml/stable-diffusion-v1-5/resolve/main/v1-5-pruned-emaonly.ckpt \n",
    "\n",
    "# Inpainting model 1.5 (4GB)\n",
    "#!wget --header={user_header} https://huggingface.co/runwayml/stable-diffusion-inpainting/resolve/main/sd-v1-5-inpainting.ckpt"
   ]
  },
  {
   "cell_type": "markdown",
   "metadata": {},
   "source": [
    "### Recommended Optional: Download variational autoencoder (VAE)\n",
    "\n",
    "Doing so can improve the quality of generated images, if you select the VAE in the webui settings\n",
    "\n",
    "Go to these pages and ***accept the licenses*** before running the next cell:\n",
    "\n",
    "https://huggingface.co/stabilityai/sd-vae-ft-ema-original\n",
    "\n",
    "https://huggingface.co/stabilityai/sd-vae-ft-mse-original"
   ]
  },
  {
   "cell_type": "code",
   "execution_count": 9,
   "metadata": {},
   "outputs": [
    {
     "name": "stdout",
     "output_type": "stream",
     "text": [
      "/home/studio-lab-user/sagemaker-studiolab-notebooks/stable-diffusion-webui/models/Stable-diffusion\n",
      "--2023-02-23 05:20:23--  https://huggingface.co/stabilityai/sd-vae-ft-mse-original/resolve/main/vae-ft-mse-840000-ema-pruned.ckpt\n",
      "Resolving huggingface.co (huggingface.co)... 54.235.118.239, 3.231.67.228, 2600:1f18:147f:e800:671:b733:ecf3:a585, ...\n",
      "Connecting to huggingface.co (huggingface.co)|54.235.118.239|:443... connected.\n",
      "HTTP request sent, awaiting response... 302 Found\n",
      "Location: https://cdn-lfs.huggingface.co/repos/ec/ee/eceee26c5834d8a75cf04eeb17dfc06d1d5fe1d80c2f19520b148c11e2e98c45/c6a580b13a5bc05a5e16e4dbb80608ff2ec251a162311590c1f34c013d7f3dab?response-content-disposition=attachment%3B+filename*%3DUTF-8%27%27vae-ft-mse-840000-ema-pruned.ckpt%3B+filename%3D%22vae-ft-mse-840000-ema-pruned.ckpt%22%3B&Expires=1677388554&Policy=eyJTdGF0ZW1lbnQiOlt7IlJlc291cmNlIjoiaHR0cHM6Ly9jZG4tbGZzLmh1Z2dpbmdmYWNlLmNvL3JlcG9zL2VjL2VlL2VjZWVlMjZjNTgzNGQ4YTc1Y2YwNGVlYjE3ZGZjMDZkMWQ1ZmUxZDgwYzJmMTk1MjBiMTQ4YzExZTJlOThjNDUvYzZhNTgwYjEzYTViYzA1YTVlMTZlNGRiYjgwNjA4ZmYyZWMyNTFhMTYyMzExNTkwYzFmMzRjMDEzZDdmM2RhYj9yZXNwb25zZS1jb250ZW50LWRpc3Bvc2l0aW9uPSoiLCJDb25kaXRpb24iOnsiRGF0ZUxlc3NUaGFuIjp7IkFXUzpFcG9jaFRpbWUiOjE2NzczODg1NTR9fX1dfQ__&Signature=wDjMELsArCujUXYJh7s0I4rd%7E1nN1qhuW0seRy3diZTNMhbgywqlLR099Ebs2Iy51G1BWTpmxBZDdRYHoXyea59maiDdMpO4AFQ%7E3GVnvyySZIu6iSwJMbS8oIxCs%7E96X5XWAqpk7-o-9dTMlcdrjpkflIDX-rHrYTL7KcLthl1ll-wkCxsFP7LcENWVqj3K-rZNITNF3VZ6uXwx3C9HrAwrTmiO-Bol2Sxab%7EZ9gymmrHU164Pzlf%7EJ3Gik9RprFyGHyu9xjSTGItF-0JRvEiShDl-RiIS88co3hQqcUsicdA48FFKbSmF-q6siRMmcRz%7EgkH5ANN7b3hKTg1X6Kg__&Key-Pair-Id=KVTP0A1DKRTAX [following]\n",
      "--2023-02-23 05:20:23--  https://cdn-lfs.huggingface.co/repos/ec/ee/eceee26c5834d8a75cf04eeb17dfc06d1d5fe1d80c2f19520b148c11e2e98c45/c6a580b13a5bc05a5e16e4dbb80608ff2ec251a162311590c1f34c013d7f3dab?response-content-disposition=attachment%3B+filename*%3DUTF-8''vae-ft-mse-840000-ema-pruned.ckpt%3B+filename%3D%22vae-ft-mse-840000-ema-pruned.ckpt%22%3B&Expires=1677388554&Policy=eyJTdGF0ZW1lbnQiOlt7IlJlc291cmNlIjoiaHR0cHM6Ly9jZG4tbGZzLmh1Z2dpbmdmYWNlLmNvL3JlcG9zL2VjL2VlL2VjZWVlMjZjNTgzNGQ4YTc1Y2YwNGVlYjE3ZGZjMDZkMWQ1ZmUxZDgwYzJmMTk1MjBiMTQ4YzExZTJlOThjNDUvYzZhNTgwYjEzYTViYzA1YTVlMTZlNGRiYjgwNjA4ZmYyZWMyNTFhMTYyMzExNTkwYzFmMzRjMDEzZDdmM2RhYj9yZXNwb25zZS1jb250ZW50LWRpc3Bvc2l0aW9uPSoiLCJDb25kaXRpb24iOnsiRGF0ZUxlc3NUaGFuIjp7IkFXUzpFcG9jaFRpbWUiOjE2NzczODg1NTR9fX1dfQ__&Signature=wDjMELsArCujUXYJh7s0I4rd~1nN1qhuW0seRy3diZTNMhbgywqlLR099Ebs2Iy51G1BWTpmxBZDdRYHoXyea59maiDdMpO4AFQ~3GVnvyySZIu6iSwJMbS8oIxCs~96X5XWAqpk7-o-9dTMlcdrjpkflIDX-rHrYTL7KcLthl1ll-wkCxsFP7LcENWVqj3K-rZNITNF3VZ6uXwx3C9HrAwrTmiO-Bol2Sxab~Z9gymmrHU164Pzlf~J3Gik9RprFyGHyu9xjSTGItF-0JRvEiShDl-RiIS88co3hQqcUsicdA48FFKbSmF-q6siRMmcRz~gkH5ANN7b3hKTg1X6Kg__&Key-Pair-Id=KVTP0A1DKRTAX\n",
      "Resolving cdn-lfs.huggingface.co (cdn-lfs.huggingface.co)... 108.156.184.7, 108.156.184.22, 108.156.184.106, ...\n",
      "Connecting to cdn-lfs.huggingface.co (cdn-lfs.huggingface.co)|108.156.184.7|:443... connected.\n",
      "HTTP request sent, awaiting response... 200 OK\n",
      "Length: 334695179 (319M) [binary/octet-stream]\n",
      "Saving to: 'v1-5-pruned-emaonly.vae.pt'\n",
      "\n",
      "v1-5-pruned-emaonly 100%[===================>] 319.19M   182MB/s    in 1.8s    \n",
      "\n",
      "2023-02-23 05:20:24 (182 MB/s) - 'v1-5-pruned-emaonly.vae.pt' saved [334695179/334695179]\n",
      "\n"
     ]
    }
   ],
   "source": [
    "# sd-vae-ft-ema-original\n",
    "#%cd ~/sagemaker-studiolab-notebooks/stable-diffusion-webui/models/VAE/\n",
    "#!wget --header={user_header} https://huggingface.co/stabilityai/sd-vae-ft-ema-original/resolve/main/vae-ft-ema-560000-ema-pruned.ckpt\n",
    "\n",
    "# sd-vae-ft-mse-original\n",
    "#%cd ~/sagemaker-studiolab-notebooks/stable-diffusion-webui/models/VAE/\n",
    "#!wget --header={user_header} https://huggingface.co/stabilityai/sd-vae-ft-mse-original/resolve/main/vae-ft-mse-840000-ema-pruned.ckpt\n",
    "\n",
    "# sd-vae-ft-mse-original\n",
    "# Use this if you downloaded v1-5-pruned-emaonly.ckpt above and want to autoselect the VAE every time you load this model in the webui\n",
    "%cd ~/sagemaker-studiolab-notebooks/stable-diffusion-webui/models/Stable-diffusion/\n",
    "!wget --header={user_header} https://huggingface.co/stabilityai/sd-vae-ft-mse-original/resolve/main/vae-ft-mse-840000-ema-pruned.ckpt -O v1-5-pruned-emaonly.vae.pt \n",
    "\n"
   ]
  },
  {
   "cell_type": "markdown",
   "metadata": {
    "tags": []
   },
   "source": [
    "###  Optional: Download various models\n",
    "\n",
    "Change values from False to True to download a model\n",
    "\n",
    "A Huggingface token is not necessary for these downloads"
   ]
  },
  {
   "cell_type": "code",
   "execution_count": 11,
   "metadata": {},
   "outputs": [
    {
     "name": "stdout",
     "output_type": "stream",
     "text": [
      "/tmp/models\n",
      "--2023-02-23 06:08:11--  https://huggingface.co/AdamOswald1/Anything-Preservation/resolve/acc67d36406e41252aa936c43248c4ad988db33f/Anything-V3.0-pruned.ckpt\n",
      "Resolving huggingface.co (huggingface.co)... 3.231.67.228, 54.235.118.239, 2600:1f18:147f:e800:671:b733:ecf3:a585, ...\n",
      "Connecting to huggingface.co (huggingface.co)|3.231.67.228|:443... connected.\n",
      "HTTP request sent, awaiting response... 302 Found\n",
      "Location: https://cdn-lfs.huggingface.co/repos/34/6e/346ebbecca969a84b4a823894ace3d4ca1a6070ae4e99fe386d76347f6215815/543bcbc21294831c6245cd74c8a7707761e28812c690f946cb81fef930d54b5e?response-content-disposition=attachment%3B+filename*%3DUTF-8%27%27Anything-V3.0-pruned.ckpt%3B+filename%3D%22Anything-V3.0-pruned.ckpt%22%3B&Expires=1677391692&Policy=eyJTdGF0ZW1lbnQiOlt7IlJlc291cmNlIjoiaHR0cHM6Ly9jZG4tbGZzLmh1Z2dpbmdmYWNlLmNvL3JlcG9zLzM0LzZlLzM0NmViYmVjY2E5NjlhODRiNGE4MjM4OTRhY2UzZDRjYTFhNjA3MGFlNGU5OWZlMzg2ZDc2MzQ3ZjYyMTU4MTUvNTQzYmNiYzIxMjk0ODMxYzYyNDVjZDc0YzhhNzcwNzc2MWUyODgxMmM2OTBmOTQ2Y2I4MWZlZjkzMGQ1NGI1ZT9yZXNwb25zZS1jb250ZW50LWRpc3Bvc2l0aW9uPSoiLCJDb25kaXRpb24iOnsiRGF0ZUxlc3NUaGFuIjp7IkFXUzpFcG9jaFRpbWUiOjE2NzczOTE2OTJ9fX1dfQ__&Signature=M20PuQTtoblDpzDoXl1C8QXmpYc7uU-eg0YZhqKISQBQWPSKM5Fcx50W%7E0NkM33uoT-lytkGmHBBeBn0mkBDi8PbgRDUKCz5stfkiLuz13uQ2O12bgjiEYnoCLMTI8Xmvx9j%7ElmPP%7Ew-0yGoDwgBKVzz0qE8%7EUF-KRiHENSHZYPeJMnM4HXiHNXm00NMzk5FdK-Ef53FxA1LVCZLG-4rHjtIcOvn2QlmL-kkUdAUm5iHyfzUOYp1iBUsWyNtVnWdiFVLPd0cnPrAAFomhuj34po%7EgCESFdkY05fRda7JTwfeNSh5RAcKl3d6fGzzAXPsaCHeQfdOfL%7EmFAZMSIHl4A__&Key-Pair-Id=KVTP0A1DKRTAX [following]\n",
      "--2023-02-23 06:08:11--  https://cdn-lfs.huggingface.co/repos/34/6e/346ebbecca969a84b4a823894ace3d4ca1a6070ae4e99fe386d76347f6215815/543bcbc21294831c6245cd74c8a7707761e28812c690f946cb81fef930d54b5e?response-content-disposition=attachment%3B+filename*%3DUTF-8''Anything-V3.0-pruned.ckpt%3B+filename%3D%22Anything-V3.0-pruned.ckpt%22%3B&Expires=1677391692&Policy=eyJTdGF0ZW1lbnQiOlt7IlJlc291cmNlIjoiaHR0cHM6Ly9jZG4tbGZzLmh1Z2dpbmdmYWNlLmNvL3JlcG9zLzM0LzZlLzM0NmViYmVjY2E5NjlhODRiNGE4MjM4OTRhY2UzZDRjYTFhNjA3MGFlNGU5OWZlMzg2ZDc2MzQ3ZjYyMTU4MTUvNTQzYmNiYzIxMjk0ODMxYzYyNDVjZDc0YzhhNzcwNzc2MWUyODgxMmM2OTBmOTQ2Y2I4MWZlZjkzMGQ1NGI1ZT9yZXNwb25zZS1jb250ZW50LWRpc3Bvc2l0aW9uPSoiLCJDb25kaXRpb24iOnsiRGF0ZUxlc3NUaGFuIjp7IkFXUzpFcG9jaFRpbWUiOjE2NzczOTE2OTJ9fX1dfQ__&Signature=M20PuQTtoblDpzDoXl1C8QXmpYc7uU-eg0YZhqKISQBQWPSKM5Fcx50W~0NkM33uoT-lytkGmHBBeBn0mkBDi8PbgRDUKCz5stfkiLuz13uQ2O12bgjiEYnoCLMTI8Xmvx9j~lmPP~w-0yGoDwgBKVzz0qE8~UF-KRiHENSHZYPeJMnM4HXiHNXm00NMzk5FdK-Ef53FxA1LVCZLG-4rHjtIcOvn2QlmL-kkUdAUm5iHyfzUOYp1iBUsWyNtVnWdiFVLPd0cnPrAAFomhuj34po~gCESFdkY05fRda7JTwfeNSh5RAcKl3d6fGzzAXPsaCHeQfdOfL~mFAZMSIHl4A__&Key-Pair-Id=KVTP0A1DKRTAX\n",
      "Resolving cdn-lfs.huggingface.co (cdn-lfs.huggingface.co)... 108.156.184.106, 108.156.184.22, 108.156.184.64, ...\n",
      "Connecting to cdn-lfs.huggingface.co (cdn-lfs.huggingface.co)|108.156.184.106|:443... connected.\n",
      "HTTP request sent, awaiting response... 200 OK\n",
      "Length: 3852134462 (3.6G) [binary/octet-stream]\n",
      "Saving to: 'Anything-V3.0-pruned.ckpt'\n",
      "\n",
      "Anything-V3.0-prune 100%[===================>]   3.59G  75.5MB/s    in 57s     \n",
      "\n",
      "2023-02-23 06:09:08 (64.7 MB/s) - 'Anything-V3.0-pruned.ckpt' saved [3852134462/3852134462]\n",
      "\n",
      "--2023-02-23 06:09:09--  https://huggingface.co/AdamOswald1/Anything-Preservation/resolve/acc67d36406e41252aa936c43248c4ad988db33f/Anything-V3.0.vae.pt\n",
      "Resolving huggingface.co (huggingface.co)... 54.235.118.239, 3.231.67.228, 2600:1f18:147f:e850:e203:c458:10cd:fc3c, ...\n",
      "Connecting to huggingface.co (huggingface.co)|54.235.118.239|:443... connected.\n",
      "HTTP request sent, awaiting response... 302 Found\n",
      "Location: https://cdn-lfs.huggingface.co/repos/34/6e/346ebbecca969a84b4a823894ace3d4ca1a6070ae4e99fe386d76347f6215815/f921fb3f29891d2a77a6571e56b8b5052420d2884129517a333c60b1b4816cdf?response-content-disposition=attachment%3B+filename*%3DUTF-8%27%27Anything-V3.0.vae.pt%3B+filename%3D%22Anything-V3.0.vae.pt%22%3B&Expires=1677391749&Policy=eyJTdGF0ZW1lbnQiOlt7IlJlc291cmNlIjoiaHR0cHM6Ly9jZG4tbGZzLmh1Z2dpbmdmYWNlLmNvL3JlcG9zLzM0LzZlLzM0NmViYmVjY2E5NjlhODRiNGE4MjM4OTRhY2UzZDRjYTFhNjA3MGFlNGU5OWZlMzg2ZDc2MzQ3ZjYyMTU4MTUvZjkyMWZiM2YyOTg5MWQyYTc3YTY1NzFlNTZiOGI1MDUyNDIwZDI4ODQxMjk1MTdhMzMzYzYwYjFiNDgxNmNkZj9yZXNwb25zZS1jb250ZW50LWRpc3Bvc2l0aW9uPSoiLCJDb25kaXRpb24iOnsiRGF0ZUxlc3NUaGFuIjp7IkFXUzpFcG9jaFRpbWUiOjE2NzczOTE3NDl9fX1dfQ__&Signature=QMOayKersF1IlTCyuo2IbK-UiTmgjj2owkCy11kOCMF1P%7E%7ENiOR9S9qzynSG%7EFlcp6QJvP2alJZMMlBwDwVqUYJWuQwIkzrzl9weU-EMp4Ryiqooo%7E77ARnawUv4eRGviHm7o4SfGB0C7Vhzf5gBbuETodb3QvJ85I7lMVRo80wm3zHPkONGe1b2TWcEPMBL9Z3LfpFMNZX7q%7Ea1WBy8xrr3EHJswChfEIRtlvVK4abbWaUzWLaXO-th8eKKrqcKdbgBqE7mjp6NGKaVWlqPdq15kV5j96V7T1MAHps6Y1moR7NLSmipxfLGYq1zusfcyAKcHOBoKX9Wz8eH0GwAdA__&Key-Pair-Id=KVTP0A1DKRTAX [following]\n",
      "--2023-02-23 06:09:09--  https://cdn-lfs.huggingface.co/repos/34/6e/346ebbecca969a84b4a823894ace3d4ca1a6070ae4e99fe386d76347f6215815/f921fb3f29891d2a77a6571e56b8b5052420d2884129517a333c60b1b4816cdf?response-content-disposition=attachment%3B+filename*%3DUTF-8''Anything-V3.0.vae.pt%3B+filename%3D%22Anything-V3.0.vae.pt%22%3B&Expires=1677391749&Policy=eyJTdGF0ZW1lbnQiOlt7IlJlc291cmNlIjoiaHR0cHM6Ly9jZG4tbGZzLmh1Z2dpbmdmYWNlLmNvL3JlcG9zLzM0LzZlLzM0NmViYmVjY2E5NjlhODRiNGE4MjM4OTRhY2UzZDRjYTFhNjA3MGFlNGU5OWZlMzg2ZDc2MzQ3ZjYyMTU4MTUvZjkyMWZiM2YyOTg5MWQyYTc3YTY1NzFlNTZiOGI1MDUyNDIwZDI4ODQxMjk1MTdhMzMzYzYwYjFiNDgxNmNkZj9yZXNwb25zZS1jb250ZW50LWRpc3Bvc2l0aW9uPSoiLCJDb25kaXRpb24iOnsiRGF0ZUxlc3NUaGFuIjp7IkFXUzpFcG9jaFRpbWUiOjE2NzczOTE3NDl9fX1dfQ__&Signature=QMOayKersF1IlTCyuo2IbK-UiTmgjj2owkCy11kOCMF1P~~NiOR9S9qzynSG~Flcp6QJvP2alJZMMlBwDwVqUYJWuQwIkzrzl9weU-EMp4Ryiqooo~77ARnawUv4eRGviHm7o4SfGB0C7Vhzf5gBbuETodb3QvJ85I7lMVRo80wm3zHPkONGe1b2TWcEPMBL9Z3LfpFMNZX7q~a1WBy8xrr3EHJswChfEIRtlvVK4abbWaUzWLaXO-th8eKKrqcKdbgBqE7mjp6NGKaVWlqPdq15kV5j96V7T1MAHps6Y1moR7NLSmipxfLGYq1zusfcyAKcHOBoKX9Wz8eH0GwAdA__&Key-Pair-Id=KVTP0A1DKRTAX\n",
      "Resolving cdn-lfs.huggingface.co (cdn-lfs.huggingface.co)... 108.156.184.7, 108.156.184.64, 108.156.184.22, ...\n",
      "Connecting to cdn-lfs.huggingface.co (cdn-lfs.huggingface.co)|108.156.184.7|:443... connected.\n",
      "HTTP request sent, awaiting response... 200 OK\n",
      "Length: 822802803 (785M) [binary/octet-stream]\n",
      "Saving to: 'Anything-V3.0-pruned.vae.pt'\n",
      "\n",
      "Anything-V3.0-prune 100%[===================>] 784.69M  36.8MB/s    in 19s     \n",
      "\n",
      "2023-02-23 06:09:28 (42.3 MB/s) - 'Anything-V3.0-pruned.vae.pt' saved [822802803/822802803]\n",
      "\n"
     ]
    }
   ],
   "source": [
    "############################################################\n",
    "\n",
    "download_to_temp_folder = True # models will be deleted when the SageMaker session ends \n",
    "\n",
    "anything_v3 = True # Anything V3 model with VAE\n",
    "anything_xtron = False # AnythingXtron model\n",
    "gigachad = False # Gigachad model\n",
    "midjourney_v4 = False # Midjourney V4 Diffusion\n",
    "waifu = False # Waifu Division with Anime VAE\n",
    "modidi = False # Modern Disney Diffusion\n",
    "nitrodiffusion = False # Multi-Style Model trained from scratch\n",
    "sd15_cloned = False # Cloned version of model 1.5 (not token necessary)\n",
    "secret_ai = False # Anime/furry model with VAE and hypernetworks\n",
    "\n",
    "############################################################\n",
    "\n",
    "if download_to_temp_folder:\n",
    "    !mkdir -p /tmp/models\n",
    "    %cd ~/sagemaker-studiolab-notebooks/stable-diffusion-webui/models/Stable-diffusion/tmp_models\n",
    "else:\n",
    "    %cd ~/sagemaker-studiolab-notebooks/stable-diffusion-webui/models/Stable-diffusion/\n",
    "\n",
    "if anything_v3:\n",
    "    #!wget https://huggingface.co/Linaqruf/anything-v3.0/resolve/main/Anything-V3.0-pruned.ckpt\n",
    "    !wget https://huggingface.co/AdamOswald1/Anything-Preservation/resolve/acc67d36406e41252aa936c43248c4ad988db33f/Anything-V3.0-pruned.ckpt\n",
    "    #!wget https://huggingface.co/Linaqruf/anything-v3.0/resolve/main/Anything-V3.0.vae.pt -O Anything-V3.0-pruned.vae.pt\n",
    "    !wget https://huggingface.co/AdamOswald1/Anything-Preservation/resolve/acc67d36406e41252aa936c43248c4ad988db33f/Anything-V3.0.vae.pt -O Anything-V3.0-pruned.vae.pt\n",
    "\n",
    "if anything_xtron:\n",
    "    !wget https://huggingface.co/CrasHthe2nd2/anything-tron/resolve/main/anythingXtron.ckpt\n",
    "    !wget https://huggingface.co/CrasHthe2nd2/anything-tron/resolve/main/Anything-V3.0.vae.pt -O anythingXtron.vae.pt\n",
    "\n",
    "if gigachad:\n",
    "    !wget https://huggingface.co/SpiteAnon/gigachad-diffusion/resolve/main/gigachad_2000.ckpt\n",
    "\n",
    "if midjourney_v4:\n",
    "    !wget https://huggingface.co/prompthero/midjourney-v4-diffusion/resolve/main/mdjrny-v4.ckpt\n",
    "\n",
    "if modidi:\n",
    "    !wget https://huggingface.co/nitrosocke/mo-di-diffusion/resolve/main/moDi-v1-pruned.ckpt\n",
    "\n",
    "if nitrodiffusion:\n",
    "    !wget https://huggingface.co/nitrosocke/Nitro-Diffusion/resolve/main/nitroDiffusion-v1.ckpt\n",
    "\n",
    "if sd15_cloned:\n",
    "    !wget https://huggingface.co/acheong08/SD-V1-5-cloned/resolve/main/v1-5-pruned-emaonly.ckpt\n",
    "\n",
    "if secret_ai:\n",
    "    !wget https://huggingface.co/acheong08/secretAI/resolve/main/stableckpt/animefull-final-pruned/model.ckpt -O secret_ai.ckpt\n",
    "    %cd ~/sagemaker-studiolab-notebooks/stable-diffusion-webui/models/VAE/\n",
    "    !wget https://huggingface.co/acheong08/secretAI/resolve/main/stableckpt/animevae.pt\n",
    "    !mkdir -p ~/sagemaker-studiolab-notebooks/stable-diffusion-webui/models/hypernetworks/\n",
    "    %cd ~/sagemaker-studiolab-notebooks/stable-diffusion-webui/models/hypernetworks/\n",
    "    !wget https://huggingface.co/acheong08/secretAI/resolve/main/stableckpt/modules/modules/aini.pt\n",
    "    !wget https://huggingface.co/acheong08/secretAI/resolve/main/stableckpt/modules/modules/anime.pt\n",
    "    !wget https://huggingface.co/acheong08/secretAI/resolve/main/stableckpt/modules/modules/anime_2.pt\n",
    "    !wget https://huggingface.co/acheong08/secretAI/resolve/main/stableckpt/modules/modules/anime_3.pt\n",
    "    !wget https://huggingface.co/acheong08/secretAI/resolve/main/stableckpt/modules/modules/furry.pt\n",
    "    !wget https://huggingface.co/acheong08/secretAI/resolve/main/stableckpt/modules/modules/furry_2.pt\n",
    "    !wget https://huggingface.co/acheong08/secretAI/resolve/main/stableckpt/modules/modules/furry_3.pt\n",
    "    !wget https://huggingface.co/acheong08/secretAI/resolve/main/stableckpt/modules/modules/furry_kemono.pt\n",
    "    !wget https://huggingface.co/acheong08/secretAI/resolve/main/stableckpt/modules/modules/furry_protogen.pt\n",
    "    !wget https://huggingface.co/acheong08/secretAI/resolve/main/stableckpt/modules/modules/furry_scalie.pt\n",
    "    !wget https://huggingface.co/acheong08/secretAI/resolve/main/stableckpt/modules/modules/furry_transformation.pt\n",
    "    !wget https://huggingface.co/acheong08/secretAI/resolve/main/stableckpt/modules/modules/pony.pt\n",
    "\n",
    "# waifu division\n",
    "if waifu:\n",
    "    %cd ~/sagemaker-studiolab-notebooks/stable-diffusion-webui/models/Stable-diffusion/\n",
    "    !wget https://huggingface.co/hakurei/waifu-diffusion-v1-4/resolve/main/models/wd-1-3-penultimate-ucg-cont.ckpt\n",
    "\n",
    "    %cd ~/sagemaker-studiolab-notebooks/stable-diffusion-webui/models/VAE/\n",
    "    !wget https://huggingface.co/hakurei/waifu-diffusion-v1-4/resolve/main/vae/kl-f8-anime.ckpt\n",
    "    !wget https://huggingface.co/hakurei/waifu-diffusion-v1-4/resolve/main/vae/kl-f8-anime2.ckpt"
   ]
  },
  {
   "cell_type": "markdown",
   "metadata": {},
   "source": [
    "Sources: \n",
    "\n",
    "https://huggingface.co/SpiteAnon/gigachad-diffusion\n",
    "\n",
    "https://huggingface.co/CrasHthe2nd2/anything-tron\n",
    "\n",
    "https://huggingface.co/Linaqruf/anything-v3.0\n",
    "\n",
    "https://huggingface.co/prompthero/midjourney-v4-diffusion\n",
    "\n",
    "https://huggingface.co/hakurei/waifu-diffusion-v1-4\n",
    "\n",
    "https://huggingface.co/nitrosocke/mo-di-diffusion\n",
    "\n",
    "https://huggingface.co/nitrosocke/Nitro-Diffusion\n",
    "\n",
    "https://huggingface.co/acheong08"
   ]
  },
  {
   "cell_type": "markdown",
   "metadata": {
    "tags": []
   },
   "source": [
    "### Optional: Download a model from Google Drive"
   ]
  },
  {
   "cell_type": "markdown",
   "metadata": {},
   "source": [
    "Copy the file ID from your URL and paste it into the `GOOGLE_FILE_ID` variable below, before running this cell"
   ]
  },
  {
   "cell_type": "code",
   "execution_count": 12,
   "metadata": {},
   "outputs": [
    {
     "name": "stdout",
     "output_type": "stream",
     "text": [
      "Collecting gdown\n",
      "  Downloading gdown-4.6.4-py3-none-any.whl (14 kB)\n",
      "Collecting filelock\n",
      "  Downloading filelock-3.9.0-py3-none-any.whl (9.7 kB)\n",
      "Requirement already satisfied: beautifulsoup4 in /home/studio-lab-user/.conda/envs/default/lib/python3.9/site-packages (from gdown) (4.11.1)\n",
      "Collecting requests[socks]\n",
      "  Downloading requests-2.28.2-py3-none-any.whl (62 kB)\n",
      "\u001b[K     |████████████████████████████████| 62 kB 2.2 MB/s eta 0:00:011\n",
      "\u001b[?25hCollecting tqdm\n",
      "  Downloading tqdm-4.64.1-py2.py3-none-any.whl (78 kB)\n",
      "\u001b[K     |████████████████████████████████| 78 kB 5.7 MB/s eta 0:00:011\n",
      "\u001b[?25hRequirement already satisfied: six in /home/studio-lab-user/.conda/envs/default/lib/python3.9/site-packages (from gdown) (1.16.0)\n",
      "Requirement already satisfied: soupsieve>1.2 in /home/studio-lab-user/.conda/envs/default/lib/python3.9/site-packages (from beautifulsoup4->gdown) (2.3.2.post1)\n",
      "Collecting urllib3<1.27,>=1.21.1\n",
      "  Downloading urllib3-1.26.14-py2.py3-none-any.whl (140 kB)\n",
      "\u001b[K     |████████████████████████████████| 140 kB 14.7 MB/s eta 0:00:01\n",
      "\u001b[?25hCollecting charset-normalizer<4,>=2\n",
      "  Downloading charset_normalizer-3.0.1-cp39-cp39-manylinux_2_17_x86_64.manylinux2014_x86_64.whl (198 kB)\n",
      "\u001b[K     |████████████████████████████████| 198 kB 76.9 MB/s eta 0:00:01\n",
      "\u001b[?25hRequirement already satisfied: idna<4,>=2.5 in /home/studio-lab-user/.conda/envs/default/lib/python3.9/site-packages (from requests[socks]->gdown) (3.4)\n",
      "Collecting certifi>=2017.4.17\n",
      "  Downloading certifi-2022.12.7-py3-none-any.whl (155 kB)\n",
      "\u001b[K     |████████████████████████████████| 155 kB 74.8 MB/s eta 0:00:01\n",
      "\u001b[?25hCollecting PySocks!=1.5.7,>=1.5.6\n",
      "  Downloading PySocks-1.7.1-py3-none-any.whl (16 kB)\n",
      "Installing collected packages: urllib3, charset-normalizer, certifi, requests, PySocks, tqdm, filelock, gdown\n",
      "Successfully installed PySocks-1.7.1 certifi-2022.12.7 charset-normalizer-3.0.1 filelock-3.9.0 gdown-4.6.4 requests-2.28.2 tqdm-4.64.1 urllib3-1.26.14\n",
      "Note: you may need to restart the kernel to use updated packages.\n"
     ]
    }
   ],
   "source": [
    "%pip install gdown"
   ]
  },
  {
   "cell_type": "code",
   "execution_count": 13,
   "metadata": {},
   "outputs": [
    {
     "name": "stdout",
     "output_type": "stream",
     "text": [
      "/home/studio-lab-user/sagemaker-studiolab-notebooks/stable-diffusion-webui/models/Stable-diffusion\n",
      "Downloading https://drive.google.com/u/0/uc?id=1wHFgl0ivCmIZv88hVZXkb8oy9qCuaBGA&export=download&confirm=t\n"
     ]
    },
    {
     "name": "stderr",
     "output_type": "stream",
     "text": [
      "Downloading...\n",
      "From: https://drive.google.com/u/0/uc?id=1wHFgl0ivCmIZv88hVZXkb8oy9qCuaBGA&export=download&confirm=t\n",
      "To: /home/studio-lab-user/sagemaker-studiolab-notebooks/stable-diffusion-webui/models/Stable-diffusion/model.ckpt\n",
      "100%|██████████| 4.27G/4.27G [00:31<00:00, 137MB/s] \n"
     ]
    },
    {
     "data": {
      "text/plain": [
       "'model.ckpt'"
      ]
     },
     "execution_count": 13,
     "metadata": {},
     "output_type": "execute_result"
    }
   ],
   "source": [
    "###########################################################\n",
    "GOOGLE_FILE_ID = \"1wHFgl0ivCmIZv88hVZXkb8oy9qCuaBGA\"\n",
    "###########################################################\n",
    "\n",
    "# above file ID is Stable Diffusion model 1.4. Replace it with the file ID of the model you want to download from Google Drive\n",
    "\n",
    "import gdown\n",
    "\n",
    "#%cd /content/stable-diffusion-webui/models/Stable-diffusion/\n",
    "%cd ~/sagemaker-studiolab-notebooks/stable-diffusion-webui/models/Stable-diffusion/\n",
    "\n",
    "url = \"https://drive.google.com/u/0/uc?id=\" + GOOGLE_FILE_ID + \"&export=download&confirm=t\"\n",
    "print(\"Downloading \" + url)\n",
    "gdown.download(url)\n"
   ]
  },
  {
   "cell_type": "markdown",
   "metadata": {
    "tags": []
   },
   "source": [
    "### Optional: Download a model from MEGA"
   ]
  },
  {
   "cell_type": "markdown",
   "metadata": {},
   "source": [
    "Change `MEGA_DOWNLOAD_URL` to the URL of the model, then run the cell\n",
    "\n",
    "Download can be very slow (>30 minutes for a 4GB model)"
   ]
  },
  {
   "cell_type": "code",
   "execution_count": 14,
   "metadata": {},
   "outputs": [
    {
     "name": "stdout",
     "output_type": "stream",
     "text": [
      "/home/studio-lab-user/sagemaker-studiolab-notebooks/stable-diffusion-webui/models/Stable-diffusion\n",
      "Collecting mega.py\n",
      "  Downloading mega.py-1.0.8-py2.py3-none-any.whl (19 kB)\n",
      "Requirement already satisfied: requests>=0.10 in /home/studio-lab-user/.conda/envs/default/lib/python3.9/site-packages (from mega.py) (2.28.2)\n",
      "Collecting tenacity<6.0.0,>=5.1.5\n",
      "  Downloading tenacity-5.1.5-py2.py3-none-any.whl (34 kB)\n",
      "Collecting pathlib==1.0.1\n",
      "  Downloading pathlib-1.0.1-py3-none-any.whl (14 kB)\n",
      "Collecting pycryptodome<4.0.0,>=3.9.6\n",
      "  Downloading pycryptodome-3.17-cp35-abi3-manylinux_2_17_x86_64.manylinux2014_x86_64.whl (2.1 MB)\n",
      "\u001b[K     |████████████████████████████████| 2.1 MB 13.4 MB/s eta 0:00:01\n",
      "\u001b[?25hRequirement already satisfied: idna<4,>=2.5 in /home/studio-lab-user/.conda/envs/default/lib/python3.9/site-packages (from requests>=0.10->mega.py) (3.4)\n",
      "Requirement already satisfied: charset-normalizer<4,>=2 in /home/studio-lab-user/.conda/envs/default/lib/python3.9/site-packages (from requests>=0.10->mega.py) (3.0.1)\n",
      "Requirement already satisfied: urllib3<1.27,>=1.21.1 in /home/studio-lab-user/.conda/envs/default/lib/python3.9/site-packages (from requests>=0.10->mega.py) (1.26.14)\n",
      "Requirement already satisfied: certifi>=2017.4.17 in /home/studio-lab-user/.conda/envs/default/lib/python3.9/site-packages (from requests>=0.10->mega.py) (2022.12.7)\n",
      "Requirement already satisfied: six>=1.9.0 in /home/studio-lab-user/.conda/envs/default/lib/python3.9/site-packages (from tenacity<6.0.0,>=5.1.5->mega.py) (1.16.0)\n",
      "Installing collected packages: tenacity, pycryptodome, pathlib, mega.py\n",
      "Successfully installed mega.py-1.0.8 pathlib-1.0.1 pycryptodome-3.17 tenacity-5.1.5\n",
      "Note: you may need to restart the kernel to use updated packages.\n",
      "Connecting to MEGA\n",
      "Downloading file (no progress display available)\n",
      "Download complete\n"
     ]
    }
   ],
   "source": [
    "##########################################################\n",
    "MEGA_DOWNLOAD_URL = \"https://mega.nz/file/mdcVARhL#FUq5TL2xp7FuzzgMS4B20sOYYnPZsyPMw93sPMHeQ78\"\n",
    "##########################################################\n",
    "\n",
    "%cd ~/sagemaker-studiolab-notebooks/stable-diffusion-webui/models/Stable-diffusion/\n",
    "\n",
    "%pip install mega.py\n",
    "from mega import Mega\n",
    "\n",
    "mega = Mega()\n",
    "print(\"Connecting to MEGA\")\n",
    "m = mega.login()\n",
    "print(\"Downloading file (no progress display available)\")\n",
    "m.download_url(MEGA_DOWNLOAD_URL)\n",
    "print(\"Download complete\")"
   ]
  },
  {
   "cell_type": "markdown",
   "metadata": {
    "tags": []
   },
   "source": [
    "# Installation: Install glib to prevent libgthread error when starting webui\n",
    "\n",
    "***You only need to do this once on your SageMaker SL account***"
   ]
  },
  {
   "cell_type": "code",
   "execution_count": 15,
   "metadata": {},
   "outputs": [
    {
     "name": "stdout",
     "output_type": "stream",
     "text": [
      "Collecting package metadata (current_repodata.json): done\n",
      "Solving environment: failed with initial frozen solve. Retrying with flexible solve.\n",
      "Collecting package metadata (repodata.json): done\n",
      "Solving environment: done\n",
      "\n",
      "\n",
      "==> WARNING: A newer version of conda exists. <==\n",
      "  current version: 4.10.3\n",
      "  latest version: 22.11.1\n",
      "\n",
      "Please update conda by running\n",
      "\n",
      "    $ conda update -n base conda\n",
      "\n",
      "\n",
      "\n",
      "## Package Plan ##\n",
      "\n",
      "  environment location: /home/studio-lab-user/.conda/envs/default\n",
      "\n",
      "  added / updated specs:\n",
      "    - glib=2.51.0\n",
      "\n",
      "\n",
      "The following packages will be downloaded:\n",
      "\n",
      "    package                    |            build\n",
      "    ---------------------------|-----------------\n",
      "    ca-certificates-2022.12.7  |       ha878542_0         143 KB  conda-forge\n",
      "    gettext-0.21.1             |       h27087fc_0         4.1 MB  conda-forge\n",
      "    glib-2.51.0                |                2         6.0 MB  conda-forge\n",
      "    libiconv-1.17              |       h166bdaf_0         1.4 MB  conda-forge\n",
      "    openssl-3.0.8              |       h0b41bf4_0         2.5 MB  conda-forge\n",
      "    pcre-8.45                  |       h9c3ff4c_0         253 KB  conda-forge\n",
      "    zlib-1.2.13                |       h166bdaf_4          92 KB  conda-forge\n",
      "    ------------------------------------------------------------\n",
      "                                           Total:        14.5 MB\n",
      "\n",
      "The following NEW packages will be INSTALLED:\n",
      "\n",
      "  gettext            conda-forge/linux-64::gettext-0.21.1-h27087fc_0\n",
      "  glib               conda-forge/linux-64::glib-2.51.0-2\n",
      "  libiconv           conda-forge/linux-64::libiconv-1.17-h166bdaf_0\n",
      "  pcre               conda-forge/linux-64::pcre-8.45-h9c3ff4c_0\n",
      "  zlib               conda-forge/linux-64::zlib-1.2.13-h166bdaf_4\n",
      "\n",
      "The following packages will be UPDATED:\n",
      "\n",
      "  ca-certificates                      2022.9.24-ha878542_0 --> 2022.12.7-ha878542_0\n",
      "  openssl                                  3.0.7-h166bdaf_0 --> 3.0.8-h0b41bf4_0\n",
      "\n",
      "\n",
      "\n",
      "Downloading and Extracting Packages\n",
      "glib-2.51.0          | 6.0 MB    | ##################################### | 100% \n",
      "pcre-8.45            | 253 KB    | ##################################### | 100% \n",
      "zlib-1.2.13          | 92 KB     | ##################################### | 100% \n",
      "libiconv-1.17        | 1.4 MB    | ##################################### | 100% \n",
      "gettext-0.21.1       | 4.1 MB    | ##################################### | 100% \n",
      "ca-certificates-2022 | 143 KB    | ##################################### | 100% \n",
      "openssl-3.0.8        | 2.5 MB    | ##################################### | 100% \n",
      "Preparing transaction: done\n",
      "Verifying transaction: done\n",
      "Executing transaction: done\n"
     ]
    }
   ],
   "source": [
    "!conda install glib=2.51.0 -y"
   ]
  },
  {
   "cell_type": "markdown",
   "metadata": {
    "id": "S8nvm5f6AfaL"
   },
   "source": [
    "# Update: Change into Web UI directory and download updates\n",
    "This is not strictly necessary. You can run this every time before you start the webui"
   ]
  },
  {
   "cell_type": "code",
   "execution_count": 16,
   "metadata": {},
   "outputs": [
    {
     "name": "stdout",
     "output_type": "stream",
     "text": [
      "/home/studio-lab-user/sagemaker-studiolab-notebooks/stable-diffusion-webui\n",
      "Already up to date.\n"
     ]
    }
   ],
   "source": [
    "%cd ~/sagemaker-studiolab-notebooks/stable-diffusion-webui\n",
    "!git pull"
   ]
  },
  {
   "cell_type": "markdown",
   "metadata": {},
   "source": [
    "## Update: Install webui requirements.txt\n",
    "This is necessary sometimes after you did a `!git pull` above"
   ]
  },
  {
   "cell_type": "code",
   "execution_count": 17,
   "metadata": {},
   "outputs": [
    {
     "name": "stdout",
     "output_type": "stream",
     "text": [
      "/home/studio-lab-user/sagemaker-studiolab-notebooks/stable-diffusion-webui\n",
      "Collecting blendmodes\n",
      "  Downloading blendmodes-2022-py3-none-any.whl (10 kB)\n",
      "Collecting accelerate\n",
      "  Downloading accelerate-0.16.0-py3-none-any.whl (199 kB)\n",
      "\u001b[K     |████████████████████████████████| 199 kB 4.8 MB/s eta 0:00:01\n",
      "\u001b[?25hCollecting basicsr\n",
      "  Downloading basicsr-1.4.2.tar.gz (172 kB)\n",
      "\u001b[K     |████████████████████████████████| 172 kB 84.2 MB/s eta 0:00:01\n",
      "\u001b[?25hCollecting fonts\n",
      "  Downloading fonts-0.0.3-py3-none-any.whl (4.2 kB)\n",
      "Collecting font-roboto\n",
      "  Downloading font-roboto-0.0.1.tar.gz (2.4 MB)\n",
      "\u001b[K     |████████████████████████████████| 2.4 MB 9.8 MB/s eta 0:00:01\n",
      "\u001b[?25hCollecting gfpgan\n",
      "  Downloading gfpgan-1.3.8-py3-none-any.whl (52 kB)\n",
      "\u001b[K     |████████████████████████████████| 52 kB 422 kB/s  eta 0:00:01\n",
      "\u001b[?25hCollecting gradio==3.16.2\n",
      "  Downloading gradio-3.16.2-py3-none-any.whl (14.2 MB)\n",
      "\u001b[K     |████████████████████████████████| 14.2 MB 11.8 MB/s eta 0:00:01██████████████████▍            | 8.6 MB 11.8 MB/s eta 0:00:01\n",
      "\u001b[?25hCollecting invisible-watermark\n",
      "  Downloading invisible_watermark-0.1.5-py3-none-any.whl (1.6 MB)\n",
      "\u001b[K     |████████████████████████████████| 1.6 MB 64.1 MB/s eta 0:00:01\n",
      "\u001b[?25hCollecting numpy\n",
      "  Using cached numpy-1.24.2-cp39-cp39-manylinux_2_17_x86_64.manylinux2014_x86_64.whl (17.3 MB)\n",
      "Collecting omegaconf\n",
      "  Downloading omegaconf-2.3.0-py3-none-any.whl (79 kB)\n",
      "\u001b[K     |████████████████████████████████| 79 kB 8.0 MB/s  eta 0:00:01\n",
      "\u001b[?25hCollecting opencv-contrib-python\n",
      "  Downloading opencv_contrib_python-4.7.0.72-cp37-abi3-manylinux_2_17_x86_64.manylinux2014_x86_64.whl (67.9 MB)\n",
      "\u001b[K     |████████████████████████████████| 67.9 MB 110.9 MB/s eta 0:00:01s eta 0:00:06 |█████                           | 10.6 MB 12.0 MB/s eta 0:00:05                     | 19.6 MB 12.0 MB/s eta 0:00:05███▎                 | 30.4 MB 12.0 MB/s eta 0:00:04████████████████                | 34.0 MB 12.0 MB/s eta 0:00:03�████████▌           | 43.5 MB 12.0 MB/s eta 0:00:03��████████████████▏       | 51.3 MB 12.0 MB/s eta 0:00:02��██████████████████████████▎ | 64.3 MB 110.9 MB/s eta 0:00:01\n",
      "\u001b[?25hRequirement already satisfied: requests in /home/studio-lab-user/.conda/envs/default/lib/python3.9/site-packages (from -r requirements.txt (line 12)) (2.28.2)\n",
      "Collecting piexif\n",
      "  Downloading piexif-1.1.3-py2.py3-none-any.whl (20 kB)\n",
      "Collecting Pillow\n",
      "  Downloading Pillow-9.4.0-cp39-cp39-manylinux_2_28_x86_64.whl (3.4 MB)\n",
      "\u001b[K     |████████████████████████████████| 3.4 MB 37.8 MB/s eta 0:00:01                      | 614 kB 37.8 MB/s eta 0:00:01\n",
      "\u001b[?25hCollecting pytorch_lightning==1.7.7\n",
      "  Downloading pytorch_lightning-1.7.7-py3-none-any.whl (708 kB)\n",
      "\u001b[K     |████████████████████████████████| 708 kB 90.4 MB/s eta 0:00:01\n",
      "\u001b[?25hCollecting realesrgan\n",
      "  Downloading realesrgan-0.3.0-py3-none-any.whl (26 kB)\n",
      "Collecting scikit-image>=0.19\n",
      "  Downloading scikit_image-0.19.3-cp39-cp39-manylinux_2_17_x86_64.manylinux2014_x86_64.whl (14.0 MB)\n",
      "\u001b[K     |████████████████████████████████| 14.0 MB 16.4 MB/s eta 0:00:01    |██████████████▎                 | 6.3 MB 16.4 MB/s eta 0:00:01��█████████▏   | 12.3 MB 16.4 MB/s eta 0:00:01\n",
      "\u001b[?25hCollecting timm==0.4.12\n",
      "  Downloading timm-0.4.12-py3-none-any.whl (376 kB)\n",
      "\u001b[K     |████████████████████████████████| 376 kB 10.5 MB/s eta 0:00:01\n",
      "\u001b[?25hCollecting transformers==4.25.1\n",
      "  Downloading transformers-4.25.1-py3-none-any.whl (5.8 MB)\n",
      "\u001b[K     |████████████████████████████████| 5.8 MB 8.8 MB/s eta 0:00:01\n",
      "\u001b[?25hCollecting torch\n",
      "  Using cached torch-1.13.1-cp39-cp39-manylinux1_x86_64.whl (887.4 MB)\n",
      "Collecting einops\n",
      "  Downloading einops-0.6.0-py3-none-any.whl (41 kB)\n",
      "\u001b[K     |████████████████████████████████| 41 kB 235 kB/s  eta 0:00:01\n",
      "\u001b[?25hCollecting jsonmerge\n",
      "  Downloading jsonmerge-1.9.0.tar.gz (32 kB)\n",
      "Collecting clean-fid\n",
      "  Downloading clean_fid-0.1.35-py3-none-any.whl (26 kB)\n",
      "Collecting resize-right\n",
      "  Downloading resize_right-0.0.2-py3-none-any.whl (8.9 kB)\n",
      "Collecting torchdiffeq\n",
      "  Downloading torchdiffeq-0.2.3-py3-none-any.whl (31 kB)\n",
      "Collecting kornia\n",
      "  Downloading kornia-0.6.10-py2.py3-none-any.whl (612 kB)\n",
      "\u001b[K     |████████████████████████████████| 612 kB 85.7 MB/s eta 0:00:01\n",
      "\u001b[?25hCollecting lark\n",
      "  Downloading lark-1.1.5-py3-none-any.whl (107 kB)\n",
      "\u001b[K     |████████████████████████████████| 107 kB 59.4 MB/s eta 0:00:01\n",
      "\u001b[?25hCollecting inflection\n",
      "  Downloading inflection-0.5.1-py2.py3-none-any.whl (9.5 kB)\n",
      "Collecting GitPython\n",
      "  Downloading GitPython-3.1.31-py3-none-any.whl (184 kB)\n",
      "\u001b[K     |████████████████████████████████| 184 kB 14.6 MB/s eta 0:00:01\n",
      "\u001b[?25hCollecting torchsde\n",
      "  Downloading torchsde-0.2.5-py3-none-any.whl (59 kB)\n",
      "\u001b[K     |████████████████████████████████| 59 kB 13.9 MB/s eta 0:00:01\n",
      "\u001b[?25hCollecting safetensors\n",
      "  Downloading safetensors-0.2.8-cp39-cp39-manylinux_2_17_x86_64.manylinux2014_x86_64.whl (1.2 MB)\n",
      "\u001b[K     |████████████████████████████████| 1.2 MB 10.5 MB/s eta 0:00:01��███████████▌        | 911 kB 10.5 MB/s eta 0:00:01\n",
      "\u001b[?25hCollecting psutil\n",
      "  Downloading psutil-5.9.4-cp36-abi3-manylinux_2_12_x86_64.manylinux2010_x86_64.manylinux_2_17_x86_64.manylinux2014_x86_64.whl (280 kB)\n",
      "\u001b[K     |████████████████████████████████| 280 kB 91.4 MB/s eta 0:00:01\n",
      "\u001b[?25hCollecting markdown-it-py[linkify,plugins]\n",
      "  Downloading markdown_it_py-2.2.0-py3-none-any.whl (84 kB)\n",
      "\u001b[K     |████████████████████████████████| 84 kB 3.4 MB/s  eta 0:00:01\n",
      "\u001b[?25hCollecting orjson\n",
      "  Downloading orjson-3.8.6-cp39-cp39-manylinux_2_28_x86_64.whl (140 kB)\n",
      "\u001b[K     |████████████████████████████████| 140 kB 94.0 MB/s eta 0:00:01\n",
      "\u001b[?25hCollecting httpx\n",
      "  Downloading httpx-0.23.3-py3-none-any.whl (71 kB)\n",
      "\u001b[K     |████████████████████████████████| 71 kB 17.4 MB/s eta 0:00:01\n",
      "\u001b[?25hCollecting aiohttp\n",
      "  Downloading aiohttp-3.8.4-cp39-cp39-manylinux_2_17_x86_64.manylinux2014_x86_64.whl (1.0 MB)\n",
      "\u001b[K     |████████████████████████████████| 1.0 MB 86.0 MB/s eta 0:00:01:00:01\n",
      "\u001b[?25hRequirement already satisfied: pycryptodome in /home/studio-lab-user/.conda/envs/default/lib/python3.9/site-packages (from gradio==3.16.2->-r requirements.txt (line 7)) (3.17)\n",
      "Collecting websockets>=10.0\n",
      "  Downloading websockets-10.4-cp39-cp39-manylinux_2_5_x86_64.manylinux1_x86_64.manylinux_2_17_x86_64.manylinux2014_x86_64.whl (106 kB)\n",
      "\u001b[K     |████████████████████████████████| 106 kB 85.2 MB/s eta 0:00:01\n",
      "\u001b[?25hRequirement already satisfied: markupsafe in /home/studio-lab-user/.conda/envs/default/lib/python3.9/site-packages (from gradio==3.16.2->-r requirements.txt (line 7)) (2.1.1)\n",
      "Collecting uvicorn\n",
      "  Downloading uvicorn-0.20.0-py3-none-any.whl (56 kB)\n",
      "\u001b[K     |████████████████████████████████| 56 kB 3.1 MB/s  eta 0:00:01\n",
      "\u001b[?25hCollecting pandas\n",
      "  Downloading pandas-1.5.3-cp39-cp39-manylinux_2_17_x86_64.manylinux2014_x86_64.whl (12.2 MB)\n",
      "\u001b[K     |████████████████████████████████| 12.2 MB 101.0 MB/s eta 0:00:01\n",
      "\u001b[?25hCollecting pydantic\n",
      "  Downloading pydantic-1.10.5-cp39-cp39-manylinux_2_17_x86_64.manylinux2014_x86_64.whl (3.2 MB)\n",
      "\u001b[K     |████████████████████████████████| 3.2 MB 19.6 MB/s eta 0:00:01\n",
      "\u001b[?25hCollecting python-multipart\n",
      "  Downloading python-multipart-0.0.5.tar.gz (32 kB)\n",
      "Collecting ffmpy\n",
      "  Downloading ffmpy-0.3.0.tar.gz (4.8 kB)\n",
      "Requirement already satisfied: jinja2 in /home/studio-lab-user/.conda/envs/default/lib/python3.9/site-packages (from gradio==3.16.2->-r requirements.txt (line 7)) (3.1.2)\n",
      "Requirement already satisfied: typing-extensions in /home/studio-lab-user/.conda/envs/default/lib/python3.9/site-packages (from gradio==3.16.2->-r requirements.txt (line 7)) (4.4.0)\n",
      "Collecting pydub\n",
      "  Downloading pydub-0.25.1-py2.py3-none-any.whl (32 kB)\n",
      "Collecting altair>=4.2.0\n",
      "  Downloading altair-4.2.2-py3-none-any.whl (813 kB)\n",
      "\u001b[K     |████████████████████████████████| 813 kB 74.9 MB/s eta 0:00:01\n",
      "\u001b[?25hCollecting pyyaml\n",
      "  Downloading PyYAML-6.0-cp39-cp39-manylinux_2_5_x86_64.manylinux1_x86_64.manylinux_2_12_x86_64.manylinux2010_x86_64.whl (661 kB)\n",
      "\u001b[K     |████████████████████████████████| 661 kB 85.4 MB/s eta 0:00:01\n",
      "\u001b[?25hCollecting fsspec\n",
      "  Downloading fsspec-2023.1.0-py3-none-any.whl (143 kB)\n",
      "\u001b[K     |████████████████████████████████| 143 kB 103.9 MB/s eta 0:00:01\n",
      "\u001b[?25hCollecting aiofiles\n",
      "  Downloading aiofiles-23.1.0-py3-none-any.whl (14 kB)\n",
      "Collecting matplotlib\n",
      "  Downloading matplotlib-3.7.0-cp39-cp39-manylinux_2_17_x86_64.manylinux2014_x86_64.whl (11.6 MB)\n",
      "\u001b[K     |████████████████████████████████| 11.6 MB 75.8 MB/s eta 0:00:01�███████▎                      | 3.3 MB 75.8 MB/s eta 0:00:01██████▌  | 10.7 MB 75.8 MB/s eta 0:00:01\n",
      "\u001b[?25hCollecting fastapi\n",
      "  Downloading fastapi-0.92.0-py3-none-any.whl (56 kB)\n",
      "\u001b[K     |████████████████████████████████| 56 kB 6.1 MB/s  eta 0:00:01\n",
      "\u001b[?25hRequirement already satisfied: tqdm>=4.57.0 in /home/studio-lab-user/.conda/envs/default/lib/python3.9/site-packages (from pytorch_lightning==1.7.7->-r requirements.txt (line 15)) (4.64.1)\n",
      "Collecting tensorboard>=2.9.1\n",
      "  Downloading tensorboard-2.12.0-py3-none-any.whl (5.6 MB)\n",
      "\u001b[K     |████████████████████████████████| 5.6 MB 74.6 MB/s eta 0:00:01\n",
      "\u001b[?25hRequirement already satisfied: packaging>=17.0 in /home/studio-lab-user/.conda/envs/default/lib/python3.9/site-packages (from pytorch_lightning==1.7.7->-r requirements.txt (line 15)) (21.3)\n",
      "Collecting pyDeprecate>=0.3.1\n",
      "  Downloading pyDeprecate-0.3.2-py3-none-any.whl (10 kB)\n",
      "Collecting torchmetrics>=0.7.0\n",
      "  Downloading torchmetrics-0.11.1-py3-none-any.whl (517 kB)\n",
      "\u001b[K     |████████████████████████████████| 517 kB 86.2 MB/s eta 0:00:01\n",
      "\u001b[?25hCollecting torchvision\n",
      "  Downloading torchvision-0.14.1-cp39-cp39-manylinux1_x86_64.whl (24.2 MB)\n",
      "\u001b[K     |████████████████████████████████| 24.2 MB 84.0 MB/s eta 0:00:01B/s eta 0:00:01     |█████████████████               | 12.9 MB 84.0 MB/s eta 0:00:01�███████████████████████████ | 23.5 MB 84.0 MB/s eta 0:00:01\n",
      "\u001b[?25hCollecting huggingface-hub<1.0,>=0.10.0\n",
      "  Downloading huggingface_hub-0.12.1-py3-none-any.whl (190 kB)\n",
      "\u001b[K     |████████████████████████████████| 190 kB 83.6 MB/s eta 0:00:01\n",
      "\u001b[?25hCollecting regex!=2019.12.17\n",
      "  Downloading regex-2022.10.31-cp39-cp39-manylinux_2_17_x86_64.manylinux2014_x86_64.whl (769 kB)\n",
      "\u001b[K     |████████████████████████████████| 769 kB 10.2 MB/s eta 0:00:01\n",
      "\u001b[?25hRequirement already satisfied: filelock in /home/studio-lab-user/.conda/envs/default/lib/python3.9/site-packages (from transformers==4.25.1->-r requirements.txt (line 19)) (3.9.0)\n",
      "Collecting tokenizers!=0.11.3,<0.14,>=0.11.1\n",
      "  Downloading tokenizers-0.13.2-cp39-cp39-manylinux_2_17_x86_64.manylinux2014_x86_64.whl (7.6 MB)\n",
      "\u001b[K     |████████████████████████████████| 7.6 MB 74.7 MB/s eta 0:00:01█████▌  | 7.0 MB 74.7 MB/s eta 0:00:01\n",
      "\u001b[?25hCollecting aenum<4,>=3.1.7\n",
      "  Downloading aenum-3.1.11-py3-none-any.whl (131 kB)\n",
      "\u001b[K     |████████████████████████████████| 131 kB 114.8 MB/s eta 0:00:01\n",
      "\u001b[?25hCollecting deprecation<3,>=2.1.0\n",
      "  Downloading deprecation-2.1.0-py2.py3-none-any.whl (11 kB)\n",
      "Collecting addict\n",
      "  Downloading addict-2.4.0-py3-none-any.whl (3.8 kB)\n",
      "Collecting future\n",
      "  Downloading future-0.18.3.tar.gz (840 kB)\n",
      "\u001b[K     |████████████████████████████████| 840 kB 79.6 MB/s eta 0:00:01\n",
      "\u001b[?25hCollecting lmdb\n",
      "  Downloading lmdb-1.4.0-cp39-cp39-manylinux_2_12_x86_64.manylinux2010_x86_64.whl (305 kB)\n",
      "\u001b[K     |████████████████████████████████| 305 kB 103.3 MB/s eta 0:00:01\n",
      "\u001b[?25hCollecting opencv-python\n",
      "  Downloading opencv_python-4.7.0.72-cp37-abi3-manylinux_2_17_x86_64.manylinux2014_x86_64.whl (61.8 MB)\n",
      "\u001b[K     |████████████████████████████████| 61.8 MB 302 kB/s eta 0:00:01 MB 9.5 MB/s eta 0:00:06��█████                       | 17.3 MB 9.5 MB/s eta 0:00:05   |█████████████▎                  | 25.6 MB 9.5 MB/s eta 0:00:04 MB 9.5 MB/s eta 0:00:03  | 37.7 MB 9.5 MB/s eta 0:00:03  | 42.0 MB 9.5 MB/s eta 0:00:03████████████████████████      | 50.3 MB 9.5 MB/s eta 0:00:02\n",
      "\u001b[?25hCollecting scipy\n",
      "  Downloading scipy-1.10.1-cp39-cp39-manylinux_2_17_x86_64.manylinux2014_x86_64.whl (34.5 MB)\n",
      "\u001b[K     |████████████████████████████████| 34.5 MB 77.1 MB/s eta 0:00:01 77.1 MB/s eta 0:00:01��██████████████▎          | 22.9 MB 77.1 MB/s eta 0:00:01\n",
      "\u001b[?25hCollecting tb-nightly\n",
      "  Downloading tb_nightly-2.13.0a20230221-py3-none-any.whl (5.6 MB)\n",
      "\u001b[K     |████████████████████████████████| 5.6 MB 70.7 MB/s eta 0:00:01\n",
      "\u001b[?25hCollecting yapf\n",
      "  Downloading yapf-0.32.0-py2.py3-none-any.whl (190 kB)\n",
      "\u001b[K     |████████████████████████████████| 190 kB 59.8 MB/s eta 0:00:01\n",
      "\u001b[?25hCollecting facexlib>=0.2.5\n",
      "  Downloading facexlib-0.2.5-py3-none-any.whl (59 kB)\n",
      "\u001b[K     |████████████████████████████████| 59 kB 6.7 MB/s eta 0:00:011\n",
      "\u001b[?25hCollecting onnx\n",
      "  Downloading onnx-1.13.1-cp39-cp39-manylinux_2_17_x86_64.manylinux2014_x86_64.whl (13.5 MB)\n",
      "\u001b[K     |████████████████████████████████| 13.5 MB 77.8 MB/s eta 0:00:01██████▏                      | 3.9 MB 77.8 MB/s eta 0:00:01�████████████     | 11.3 MB 77.8 MB/s eta 0:00:01\n",
      "\u001b[?25hCollecting onnxruntime\n",
      "  Downloading onnxruntime-1.14.0-cp39-cp39-manylinux_2_27_x86_64.whl (5.0 MB)\n",
      "\u001b[K     |████████████████████████████████| 5.0 MB 85.3 MB/s eta 0:00:01��███▌        | 3.7 MB 85.3 MB/s eta 0:00:01\n",
      "\u001b[?25hCollecting PyWavelets>=1.1.1\n",
      "  Downloading PyWavelets-1.4.1-cp39-cp39-manylinux_2_17_x86_64.manylinux2014_x86_64.whl (6.9 MB)\n",
      "\u001b[K     |████████████████████████████████| 6.9 MB 75.6 MB/s eta 0:00:014 MB 75.6 MB/s eta 0:00:01\n",
      "\u001b[?25hCollecting antlr4-python3-runtime==4.9.*\n",
      "  Downloading antlr4-python3-runtime-4.9.3.tar.gz (117 kB)\n",
      "\u001b[K     |████████████████████████████████| 117 kB 97.4 MB/s eta 0:00:01\n",
      "\u001b[?25hRequirement already satisfied: idna<4,>=2.5 in /home/studio-lab-user/.conda/envs/default/lib/python3.9/site-packages (from requests->-r requirements.txt (line 12)) (3.4)\n",
      "Requirement already satisfied: urllib3<1.27,>=1.21.1 in /home/studio-lab-user/.conda/envs/default/lib/python3.9/site-packages (from requests->-r requirements.txt (line 12)) (1.26.14)\n",
      "Requirement already satisfied: charset-normalizer<4,>=2 in /home/studio-lab-user/.conda/envs/default/lib/python3.9/site-packages (from requests->-r requirements.txt (line 12)) (3.0.1)\n",
      "Requirement already satisfied: certifi>=2017.4.17 in /home/studio-lab-user/.conda/envs/default/lib/python3.9/site-packages (from requests->-r requirements.txt (line 12)) (2022.12.7)\n",
      "Collecting tifffile>=2019.7.26\n",
      "  Downloading tifffile-2023.2.3-py3-none-any.whl (215 kB)\n",
      "\u001b[K     |████████████████████████████████| 215 kB 18.8 MB/s eta 0:00:01\n",
      "\u001b[?25hCollecting imageio>=2.4.1\n",
      "  Downloading imageio-2.25.1-py3-none-any.whl (3.4 MB)\n",
      "\u001b[K     |████████████████████████████████| 3.4 MB 13.0 MB/s eta 0:00:01\n",
      "\u001b[?25hCollecting networkx>=2.2\n",
      "  Downloading networkx-3.0-py3-none-any.whl (2.0 MB)\n",
      "\u001b[K     |████████████████████████████████| 2.0 MB 46.8 MB/s eta 0:00:01�█▍       | 1.6 MB 46.8 MB/s eta 0:00:01\n",
      "\u001b[?25hCollecting nvidia-cuda-nvrtc-cu11==11.7.99\n",
      "  Using cached nvidia_cuda_nvrtc_cu11-11.7.99-2-py3-none-manylinux1_x86_64.whl (21.0 MB)\n",
      "Collecting nvidia-cuda-runtime-cu11==11.7.99\n",
      "  Using cached nvidia_cuda_runtime_cu11-11.7.99-py3-none-manylinux1_x86_64.whl (849 kB)\n",
      "Collecting nvidia-cublas-cu11==11.10.3.66\n",
      "  Using cached nvidia_cublas_cu11-11.10.3.66-py3-none-manylinux1_x86_64.whl (317.1 MB)\n",
      "Collecting nvidia-cudnn-cu11==8.5.0.96\n",
      "  Using cached nvidia_cudnn_cu11-8.5.0.96-2-py3-none-manylinux1_x86_64.whl (557.1 MB)\n",
      "Requirement already satisfied: wheel in /home/studio-lab-user/.conda/envs/default/lib/python3.9/site-packages (from nvidia-cublas-cu11==11.10.3.66->torch->-r requirements.txt (line 20)) (0.38.4)\n",
      "Requirement already satisfied: setuptools in /home/studio-lab-user/.conda/envs/default/lib/python3.9/site-packages (from nvidia-cublas-cu11==11.10.3.66->torch->-r requirements.txt (line 20)) (65.5.1)\n",
      "Requirement already satisfied: jsonschema>2.4.0 in /home/studio-lab-user/.conda/envs/default/lib/python3.9/site-packages (from jsonmerge->-r requirements.txt (line 22)) (4.17.0)\n",
      "Collecting gitdb<5,>=4.0.1\n",
      "  Downloading gitdb-4.0.10-py3-none-any.whl (62 kB)\n",
      "\u001b[K     |████████████████████████████████| 62 kB 404 kB/s  eta 0:00:01\n",
      "\u001b[?25hCollecting trampoline>=0.1.2\n",
      "  Downloading trampoline-0.1.2-py3-none-any.whl (5.2 kB)\n",
      "Collecting boltons>=20.2.1\n",
      "  Downloading boltons-23.0.0-py2.py3-none-any.whl (194 kB)\n",
      "\u001b[K     |████████████████████████████████| 194 kB 79.9 MB/s eta 0:00:01\n",
      "\u001b[?25hRequirement already satisfied: entrypoints in /home/studio-lab-user/.conda/envs/default/lib/python3.9/site-packages (from altair>=4.2.0->gradio==3.16.2->-r requirements.txt (line 7)) (0.4)\n",
      "Collecting toolz\n",
      "  Downloading toolz-0.12.0-py3-none-any.whl (55 kB)\n",
      "\u001b[K     |████████████████████████████████| 55 kB 6.4 MB/s  eta 0:00:01\n",
      "\u001b[?25hCollecting numba\n",
      "  Downloading numba-0.56.4-cp39-cp39-manylinux2014_x86_64.manylinux_2_17_x86_64.whl (3.5 MB)\n",
      "\u001b[K     |████████████████████████████████| 3.5 MB 20.7 MB/s eta 0:00:01\n",
      "\u001b[?25hCollecting filterpy\n",
      "  Downloading filterpy-1.4.5.zip (177 kB)\n",
      "\u001b[K     |████████████████████████████████| 177 kB 69.6 MB/s eta 0:00:01\n",
      "\u001b[?25hCollecting frozenlist>=1.1.1\n",
      "  Downloading frozenlist-1.3.3-cp39-cp39-manylinux_2_5_x86_64.manylinux1_x86_64.manylinux_2_17_x86_64.manylinux2014_x86_64.whl (158 kB)\n",
      "\u001b[K     |████████████████████████████████| 158 kB 11.7 MB/s eta 0:00:01\n",
      "\u001b[?25hCollecting yarl<2.0,>=1.0\n",
      "  Downloading yarl-1.8.2-cp39-cp39-manylinux_2_17_x86_64.manylinux2014_x86_64.whl (264 kB)\n",
      "\u001b[K     |████████████████████████████████| 264 kB 84.9 MB/s eta 0:00:01\n",
      "\u001b[?25hCollecting multidict<7.0,>=4.5\n",
      "  Downloading multidict-6.0.4-cp39-cp39-manylinux_2_17_x86_64.manylinux2014_x86_64.whl (114 kB)\n",
      "\u001b[K     |████████████████████████████████| 114 kB 8.9 MB/s eta 0:00:01\n",
      "\u001b[?25hRequirement already satisfied: attrs>=17.3.0 in /home/studio-lab-user/.conda/envs/default/lib/python3.9/site-packages (from aiohttp->gradio==3.16.2->-r requirements.txt (line 7)) (22.1.0)\n",
      "Collecting aiosignal>=1.1.2\n",
      "  Downloading aiosignal-1.3.1-py3-none-any.whl (7.6 kB)\n",
      "Collecting async-timeout<5.0,>=4.0.0a3\n",
      "  Downloading async_timeout-4.0.2-py3-none-any.whl (5.8 kB)\n",
      "Collecting smmap<6,>=3.0.1\n",
      "  Downloading smmap-5.0.0-py3-none-any.whl (24 kB)\n",
      "Requirement already satisfied: pyrsistent!=0.17.0,!=0.17.1,!=0.17.2,>=0.14.0 in /home/studio-lab-user/.conda/envs/default/lib/python3.9/site-packages (from jsonschema>2.4.0->jsonmerge->-r requirements.txt (line 22)) (0.19.2)\n",
      "Requirement already satisfied: pyparsing!=3.0.5,>=2.0.2 in /home/studio-lab-user/.conda/envs/default/lib/python3.9/site-packages (from packaging>=17.0->pytorch_lightning==1.7.7->-r requirements.txt (line 15)) (3.0.9)\n",
      "Collecting pytz>=2020.1\n",
      "  Downloading pytz-2022.7.1-py2.py3-none-any.whl (499 kB)\n",
      "\u001b[K     |████████████████████████████████| 499 kB 15.6 MB/s eta 0:00:01\n",
      "\u001b[?25hRequirement already satisfied: python-dateutil>=2.8.1 in /home/studio-lab-user/.conda/envs/default/lib/python3.9/site-packages (from pandas->gradio==3.16.2->-r requirements.txt (line 7)) (2.8.2)\n",
      "Requirement already satisfied: six>=1.5 in /home/studio-lab-user/.conda/envs/default/lib/python3.9/site-packages (from python-dateutil>=2.8.1->pandas->gradio==3.16.2->-r requirements.txt (line 7)) (1.16.0)\n",
      "Collecting google-auth-oauthlib<0.5,>=0.4.1\n",
      "  Downloading google_auth_oauthlib-0.4.6-py2.py3-none-any.whl (18 kB)\n",
      "Collecting tensorboard-data-server<0.8.0,>=0.7.0\n",
      "  Downloading tensorboard_data_server-0.7.0-py3-none-manylinux2014_x86_64.whl (6.6 MB)\n",
      "\u001b[K     |████████████████████████████████| 6.6 MB 13.0 MB/s eta 0:00:01\n",
      "\u001b[?25hCollecting tensorboard-plugin-wit>=1.6.0\n",
      "  Downloading tensorboard_plugin_wit-1.8.1-py3-none-any.whl (781 kB)\n",
      "\u001b[K     |████████████████████████████████| 781 kB 90.5 MB/s eta 0:00:01\n",
      "\u001b[?25hCollecting werkzeug>=1.0.1\n",
      "  Downloading Werkzeug-2.2.3-py3-none-any.whl (233 kB)\n",
      "\u001b[K     |████████████████████████████████| 233 kB 102.9 MB/s eta 0:00:01\n",
      "\u001b[?25hCollecting protobuf>=3.19.6\n",
      "  Downloading protobuf-4.22.0-cp37-abi3-manylinux2014_x86_64.whl (302 kB)\n",
      "\u001b[K     |████████████████████████████████| 302 kB 76.4 MB/s eta 0:00:01\n",
      "\u001b[?25hCollecting absl-py>=0.4\n",
      "  Downloading absl_py-1.4.0-py3-none-any.whl (126 kB)\n",
      "\u001b[K     |████████████████████████████████| 126 kB 14.1 MB/s eta 0:00:01\n",
      "\u001b[?25hCollecting google-auth<3,>=1.6.3\n",
      "  Downloading google_auth-2.16.1-py2.py3-none-any.whl (177 kB)\n",
      "\u001b[K     |████████████████████████████████| 177 kB 13.8 MB/s eta 0:00:01\n",
      "\u001b[?25hCollecting grpcio>=1.48.2\n",
      "  Downloading grpcio-1.51.3-cp39-cp39-manylinux_2_17_x86_64.manylinux2014_x86_64.whl (4.8 MB)\n",
      "\u001b[K     |████████████████████████████████| 4.8 MB 11.3 MB/s eta 0:00:01\n",
      "\u001b[?25hCollecting markdown>=2.6.8\n",
      "  Downloading Markdown-3.4.1-py3-none-any.whl (93 kB)\n",
      "\u001b[K     |████████████████████████████████| 93 kB 1.4 MB/s  eta 0:00:01\n",
      "\u001b[?25hCollecting pyasn1-modules>=0.2.1\n",
      "  Downloading pyasn1_modules-0.2.8-py2.py3-none-any.whl (155 kB)\n",
      "\u001b[K     |████████████████████████████████| 155 kB 75.0 MB/s eta 0:00:01\n",
      "\u001b[?25hCollecting cachetools<6.0,>=2.0.0\n",
      "  Downloading cachetools-5.3.0-py3-none-any.whl (9.3 kB)\n",
      "Collecting rsa<5,>=3.1.4\n",
      "  Downloading rsa-4.9-py3-none-any.whl (34 kB)\n",
      "Collecting requests-oauthlib>=0.7.0\n",
      "  Downloading requests_oauthlib-1.3.1-py2.py3-none-any.whl (23 kB)\n",
      "Requirement already satisfied: importlib-metadata>=4.4 in /home/studio-lab-user/.conda/envs/default/lib/python3.9/site-packages (from markdown>=2.6.8->tensorboard>=2.9.1->pytorch_lightning==1.7.7->-r requirements.txt (line 15)) (5.0.0)\n",
      "Requirement already satisfied: zipp>=0.5 in /home/studio-lab-user/.conda/envs/default/lib/python3.9/site-packages (from importlib-metadata>=4.4->markdown>=2.6.8->tensorboard>=2.9.1->pytorch_lightning==1.7.7->-r requirements.txt (line 15)) (3.10.0)\n",
      "Collecting pyasn1<0.5.0,>=0.4.6\n",
      "  Downloading pyasn1-0.4.8-py2.py3-none-any.whl (77 kB)\n",
      "\u001b[K     |████████████████████████████████| 77 kB 5.7 MB/s  eta 0:00:01\n",
      "\u001b[?25hCollecting oauthlib>=3.0.0\n",
      "  Downloading oauthlib-3.2.2-py3-none-any.whl (151 kB)\n",
      "\u001b[K     |████████████████████████████████| 151 kB 74.8 MB/s eta 0:00:01\n",
      "\u001b[?25hCollecting starlette<0.26.0,>=0.25.0\n",
      "  Downloading starlette-0.25.0-py3-none-any.whl (66 kB)\n",
      "\u001b[K     |████████████████████████████████| 66 kB 3.8 MB/s  eta 0:00:01\n",
      "\u001b[?25hRequirement already satisfied: anyio<5,>=3.4.0 in /home/studio-lab-user/.conda/envs/default/lib/python3.9/site-packages (from starlette<0.26.0,>=0.25.0->fastapi->gradio==3.16.2->-r requirements.txt (line 7)) (3.6.2)\n",
      "Requirement already satisfied: sniffio>=1.1 in /home/studio-lab-user/.conda/envs/default/lib/python3.9/site-packages (from anyio<5,>=3.4.0->starlette<0.26.0,>=0.25.0->fastapi->gradio==3.16.2->-r requirements.txt (line 7)) (1.3.0)\n",
      "Collecting httpcore<0.17.0,>=0.15.0\n",
      "  Downloading httpcore-0.16.3-py3-none-any.whl (69 kB)\n",
      "\u001b[K     |████████████████████████████████| 69 kB 8.3 MB/s  eta 0:00:01\n",
      "\u001b[?25hCollecting rfc3986[idna2008]<2,>=1.3\n",
      "  Downloading rfc3986-1.5.0-py2.py3-none-any.whl (31 kB)\n",
      "Collecting h11<0.15,>=0.13\n",
      "  Downloading h11-0.14.0-py3-none-any.whl (58 kB)\n",
      "\u001b[K     |████████████████████████████████| 58 kB 3.3 MB/s  eta 0:00:01\n",
      "\u001b[?25hCollecting mdurl~=0.1\n",
      "  Downloading mdurl-0.1.2-py3-none-any.whl (10.0 kB)\n",
      "Collecting linkify-it-py<3,>=1\n",
      "  Downloading linkify_it_py-2.0.0-py3-none-any.whl (19 kB)\n",
      "Collecting mdit-py-plugins\n",
      "  Downloading mdit_py_plugins-0.3.4-py3-none-any.whl (52 kB)\n",
      "\u001b[K     |████████████████████████████████| 52 kB 358 kB/s  eta 0:00:01\n",
      "\u001b[?25hCollecting uc-micro-py\n",
      "  Downloading uc_micro_py-1.0.1-py3-none-any.whl (6.2 kB)\n",
      "Collecting kiwisolver>=1.0.1\n",
      "  Downloading kiwisolver-1.4.4-cp39-cp39-manylinux_2_12_x86_64.manylinux2010_x86_64.whl (1.6 MB)\n",
      "\u001b[K     |████████████████████████████████| 1.6 MB 15.0 MB/s eta 0:00:01\n",
      "\u001b[?25hCollecting fonttools>=4.22.0\n",
      "  Downloading fonttools-4.38.0-py3-none-any.whl (965 kB)\n",
      "\u001b[K     |████████████████████████████████| 965 kB 90.0 MB/s eta 0:00:01\n",
      "\u001b[?25hRequirement already satisfied: importlib-resources>=3.2.0 in /home/studio-lab-user/.conda/envs/default/lib/python3.9/site-packages (from matplotlib->gradio==3.16.2->-r requirements.txt (line 7)) (5.10.0)\n",
      "Collecting cycler>=0.10\n",
      "  Downloading cycler-0.11.0-py3-none-any.whl (6.4 kB)\n",
      "Collecting contourpy>=1.0.1\n",
      "  Downloading contourpy-1.0.7-cp39-cp39-manylinux_2_17_x86_64.manylinux2014_x86_64.whl (299 kB)\n",
      "\u001b[K     |████████████████████████████████| 299 kB 66.8 MB/s eta 0:00:01\n",
      "\u001b[?25hCollecting llvmlite<0.40,>=0.39.0dev0\n",
      "  Downloading llvmlite-0.39.1-cp39-cp39-manylinux_2_17_x86_64.manylinux2014_x86_64.whl (34.6 MB)\n",
      "\u001b[K     |████████████████████████████████| 34.6 MB 14.9 MB/s eta 0:00:01�████▌                       | 9.2 MB 14.9 MB/s eta 0:00:02s eta 0:00:02    |████████████████                | 17.4 MB 14.9 MB/s eta 0:00:02\n",
      "\u001b[?25hCollecting numpy\n",
      "  Downloading numpy-1.23.5-cp39-cp39-manylinux_2_17_x86_64.manylinux2014_x86_64.whl (17.1 MB)\n",
      "\u001b[K     |████████████████████████████████| 17.1 MB 84.7 MB/s eta 0:00:01�████████████████████████       | 13.3 MB 84.7 MB/s eta 0:00:01\n",
      "\u001b[?25hCollecting protobuf>=3.19.6\n",
      "  Downloading protobuf-3.20.3-cp39-cp39-manylinux_2_5_x86_64.manylinux1_x86_64.whl (1.0 MB)\n",
      "\u001b[K     |████████████████████████████████| 1.0 MB 13.0 MB/s eta 0:00:01\n",
      "\u001b[?25hCollecting flatbuffers\n",
      "  Downloading flatbuffers-23.1.21-py2.py3-none-any.whl (26 kB)\n",
      "Collecting sympy\n",
      "  Downloading sympy-1.11.1-py3-none-any.whl (6.5 MB)\n",
      "\u001b[K     |████████████████████████████████| 6.5 MB 13.4 MB/s eta 0:00:01\n",
      "\u001b[?25hCollecting coloredlogs\n",
      "  Downloading coloredlogs-15.0.1-py2.py3-none-any.whl (46 kB)\n",
      "\u001b[K     |████████████████████████████████| 46 kB 3.8 MB/s  eta 0:00:01\n",
      "\u001b[?25hCollecting humanfriendly>=9.1\n",
      "  Downloading humanfriendly-10.0-py2.py3-none-any.whl (86 kB)\n",
      "\u001b[K     |████████████████████████████████| 86 kB 5.1 MB/s eta 0:00:011\n",
      "\u001b[?25hCollecting mpmath>=0.19\n",
      "  Downloading mpmath-1.2.1-py3-none-any.whl (532 kB)\n",
      "\u001b[K     |████████████████████████████████| 532 kB 93.7 MB/s eta 0:00:01\n",
      "\u001b[?25hCollecting click>=7.0\n",
      "  Downloading click-8.1.3-py3-none-any.whl (96 kB)\n",
      "\u001b[K     |████████████████████████████████| 96 kB 6.1 MB/s  eta 0:00:01\n",
      "\u001b[?25hBuilding wheels for collected packages: basicsr, font-roboto, antlr4-python3-runtime, jsonmerge, ffmpy, filterpy, future, python-multipart\n",
      "  Building wheel for basicsr (setup.py) ... \u001b[?25ldone\n",
      "\u001b[?25h  Created wheel for basicsr: filename=basicsr-1.4.2-py3-none-any.whl size=214823 sha256=4b98d54efcad7d673d1b362e849bf44a438659984542bac5f53314ae3fda0558\n",
      "  Stored in directory: /home/studio-lab-user/.cache/pip/wheels/42/d6/3d/6d8c4b8fabeb93dd442eb255f133e8928c75d903fe20e9472c\n",
      "  Building wheel for font-roboto (setup.py) ... \u001b[?25ldone\n",
      "\u001b[?25h  Created wheel for font-roboto: filename=font_roboto-0.0.1-py3-none-any.whl size=2359736 sha256=77a3f297b2abfc83cd57789b2aee98151c6bf79ea9edd671a7e3f0f8666686d8\n",
      "  Stored in directory: /home/studio-lab-user/.cache/pip/wheels/26/36/01/d5840af8f7419a9361142426ff7709b529f8e3624ae2248c68\n",
      "  Building wheel for antlr4-python3-runtime (setup.py) ... \u001b[?25ldone\n",
      "\u001b[?25h  Created wheel for antlr4-python3-runtime: filename=antlr4_python3_runtime-4.9.3-py3-none-any.whl size=144554 sha256=728094bf592e61b159211431d6001eeaf2897c14c96f9d125cfe46cb60621652\n",
      "  Stored in directory: /home/studio-lab-user/.cache/pip/wheels/23/cf/80/f3efa822e6ab23277902ee9165fe772eeb1dfb8014f359020a\n",
      "  Building wheel for jsonmerge (setup.py) ... \u001b[?25ldone\n",
      "\u001b[?25h  Created wheel for jsonmerge: filename=jsonmerge-1.9.0-py3-none-any.whl size=18609 sha256=7bd79f53b4a6834f428290937cfd884907143adcd1cc5d9e7cc76109cd6789c4\n",
      "  Stored in directory: /home/studio-lab-user/.cache/pip/wheels/09/0f/dd/bd5a8b81ed1feef7d08fea857f7bee591e481a484e6bee317a\n",
      "  Building wheel for ffmpy (setup.py) ... \u001b[?25ldone\n",
      "\u001b[?25h  Created wheel for ffmpy: filename=ffmpy-0.3.0-py3-none-any.whl size=4693 sha256=6422e578671a96ad398e49eb4aa4d796ced0ede6c4525f94b3372b6022e0c27f\n",
      "  Stored in directory: /home/studio-lab-user/.cache/pip/wheels/91/e2/96/f676aa08bfd789328c6576cd0f1fde4a3d686703bb0c247697\n",
      "  Building wheel for filterpy (setup.py) ... \u001b[?25ldone\n",
      "\u001b[?25h  Created wheel for filterpy: filename=filterpy-1.4.5-py3-none-any.whl size=110458 sha256=f23e000f494d6a3731119ec9def037df318443c4c216743fc825e9ec4ec9d46e\n",
      "  Stored in directory: /home/studio-lab-user/.cache/pip/wheels/53/e6/de/a09ea01e923aaf88b9f8c7c44329e857b2c1a31901167e55e6\n",
      "  Building wheel for future (setup.py) ... \u001b[?25ldone\n",
      "\u001b[?25h  Created wheel for future: filename=future-0.18.3-py3-none-any.whl size=492025 sha256=5c34851764c56aa12635a3c308bcbf63e1d993fc70ead67ab508f0cfd84b86b9\n",
      "  Stored in directory: /home/studio-lab-user/.cache/pip/wheels/bf/5d/6a/2e53874f7ec4e2bede522385439531fafec8fafe005b5c3d1b\n",
      "  Building wheel for python-multipart (setup.py) ... \u001b[?25ldone\n",
      "\u001b[?25h  Created wheel for python-multipart: filename=python_multipart-0.0.5-py3-none-any.whl size=31670 sha256=fc1454511a2cbf5e7e18885ed39b65acbfeea34b3cfe0077211a73e874d8ef3b\n",
      "  Stored in directory: /home/studio-lab-user/.cache/pip/wheels/fe/04/d1/a10661cc45f03c3cecda50deb2d2c22f57b4e84a75b2a5987e\n",
      "Successfully built basicsr font-roboto antlr4-python3-runtime jsonmerge ffmpy filterpy future python-multipart\n",
      "Installing collected packages: pyasn1, rsa, pyasn1-modules, oauthlib, nvidia-cublas-cu11, numpy, cachetools, requests-oauthlib, Pillow, nvidia-cudnn-cu11, nvidia-cuda-runtime-cu11, nvidia-cuda-nvrtc-cu11, kiwisolver, google-auth, fonttools, cycler, contourpy, werkzeug, torch, tifffile, tensorboard-plugin-wit, tensorboard-data-server, scipy, PyWavelets, protobuf, networkx, multidict, mdurl, matplotlib, markdown, llvmlite, imageio, grpcio, google-auth-oauthlib, frozenlist, absl-py, yarl, yapf, uc-micro-py, torchvision, tb-nightly, scikit-image, rfc3986, pyyaml, pytz, opencv-python, numba, mpmath, markdown-it-py, lmdb, humanfriendly, h11, future, filterpy, async-timeout, aiosignal, addict, toolz, sympy, starlette, smmap, pydantic, pandas, mdit-py-plugins, linkify-it-py, httpcore, fsspec, flatbuffers, facexlib, coloredlogs, click, basicsr, aiohttp, websockets, uvicorn, trampoline, torchmetrics, tokenizers, tensorboard, regex, python-multipart, pydub, pyDeprecate, psutil, orjson, onnxruntime, onnx, huggingface-hub, httpx, gitdb, gfpgan, ffmpy, fastapi, deprecation, boltons, antlr4-python3-runtime, altair, aiofiles, aenum, transformers, torchsde, torchdiffeq, timm, safetensors, resize-right, realesrgan, pytorch-lightning, piexif, opencv-contrib-python, omegaconf, lark, kornia, jsonmerge, invisible-watermark, inflection, gradio, GitPython, fonts, font-roboto, einops, clean-fid, blendmodes, accelerate\n",
      "Successfully installed GitPython-3.1.31 Pillow-9.4.0 PyWavelets-1.4.1 absl-py-1.4.0 accelerate-0.16.0 addict-2.4.0 aenum-3.1.11 aiofiles-23.1.0 aiohttp-3.8.4 aiosignal-1.3.1 altair-4.2.2 antlr4-python3-runtime-4.9.3 async-timeout-4.0.2 basicsr-1.4.2 blendmodes-2022 boltons-23.0.0 cachetools-5.3.0 clean-fid-0.1.35 click-8.1.3 coloredlogs-15.0.1 contourpy-1.0.7 cycler-0.11.0 deprecation-2.1.0 einops-0.6.0 facexlib-0.2.5 fastapi-0.92.0 ffmpy-0.3.0 filterpy-1.4.5 flatbuffers-23.1.21 font-roboto-0.0.1 fonts-0.0.3 fonttools-4.38.0 frozenlist-1.3.3 fsspec-2023.1.0 future-0.18.3 gfpgan-1.3.8 gitdb-4.0.10 google-auth-2.16.1 google-auth-oauthlib-0.4.6 gradio-3.16.2 grpcio-1.51.3 h11-0.14.0 httpcore-0.16.3 httpx-0.23.3 huggingface-hub-0.12.1 humanfriendly-10.0 imageio-2.25.1 inflection-0.5.1 invisible-watermark-0.1.5 jsonmerge-1.9.0 kiwisolver-1.4.4 kornia-0.6.10 lark-1.1.5 linkify-it-py-2.0.0 llvmlite-0.39.1 lmdb-1.4.0 markdown-3.4.1 markdown-it-py-2.2.0 matplotlib-3.7.0 mdit-py-plugins-0.3.4 mdurl-0.1.2 mpmath-1.2.1 multidict-6.0.4 networkx-3.0 numba-0.56.4 numpy-1.23.5 nvidia-cublas-cu11-11.10.3.66 nvidia-cuda-nvrtc-cu11-11.7.99 nvidia-cuda-runtime-cu11-11.7.99 nvidia-cudnn-cu11-8.5.0.96 oauthlib-3.2.2 omegaconf-2.3.0 onnx-1.13.1 onnxruntime-1.14.0 opencv-contrib-python-4.7.0.72 opencv-python-4.7.0.72 orjson-3.8.6 pandas-1.5.3 piexif-1.1.3 protobuf-3.20.3 psutil-5.9.4 pyDeprecate-0.3.2 pyasn1-0.4.8 pyasn1-modules-0.2.8 pydantic-1.10.5 pydub-0.25.1 python-multipart-0.0.5 pytorch-lightning-1.7.7 pytz-2022.7.1 pyyaml-6.0 realesrgan-0.3.0 regex-2022.10.31 requests-oauthlib-1.3.1 resize-right-0.0.2 rfc3986-1.5.0 rsa-4.9 safetensors-0.2.8 scikit-image-0.19.3 scipy-1.10.1 smmap-5.0.0 starlette-0.25.0 sympy-1.11.1 tb-nightly-2.13.0a20230221 tensorboard-2.12.0 tensorboard-data-server-0.7.0 tensorboard-plugin-wit-1.8.1 tifffile-2023.2.3 timm-0.4.12 tokenizers-0.13.2 toolz-0.12.0 torch-1.13.1 torchdiffeq-0.2.3 torchmetrics-0.11.1 torchsde-0.2.5 torchvision-0.14.1 trampoline-0.1.2 transformers-4.25.1 uc-micro-py-1.0.1 uvicorn-0.20.0 websockets-10.4 werkzeug-2.2.3 yapf-0.32.0 yarl-1.8.2\n",
      "Note: you may need to restart the kernel to use updated packages.\n"
     ]
    }
   ],
   "source": [
    "%cd ~/sagemaker-studiolab-notebooks/stable-diffusion-webui\n",
    "%pip install -r requirements.txt"
   ]
  },
  {
   "cell_type": "markdown",
   "metadata": {},
   "source": [
    "# Run: Enter ngrok auth token\n",
    "You only need to run this once, until you delete your auth token on ngrok.com"
   ]
  },
  {
   "cell_type": "code",
   "execution_count": 18,
   "metadata": {},
   "outputs": [
    {
     "data": {
      "application/vnd.jupyter.widget-view+json": {
       "model_id": "804a3f64cb0b4943b5cdfa7024203358",
       "version_major": 2,
       "version_minor": 0
      },
      "text/plain": [
       "Text(value='2M81b95axIO12QXAQ09xDuuCvAm_7nc3yjG5mYdM8g1a27szA', description='Token:')"
      ]
     },
     "metadata": {},
     "output_type": "display_data"
    }
   ],
   "source": [
    "import ipywidgets as widgets\n",
    "\n",
    "ngrok_token_textbox = widgets.Text(\n",
    "    #value='Enter ngrok auth token here', # 2M81b95axIO12QXAQ09xDuuCvAm_7nc3yjG5mYdM8g1a27szA\n",
    "    value='2M81b95axIO12QXAQ09xDuuCvAm_7nc3yjG5mYdM8g1a27szA',\n",
    "    description='Token:',\n",
    ")\n",
    "ngrok_token_textbox"
   ]
  },
  {
   "cell_type": "markdown",
   "metadata": {
    "id": "xt8lbdmC04ox"
   },
   "source": [
    "# Run: Launch web ui\n",
    "\n",
    "You will get a ngrok.io link. Follow it and enter the username and password shown below. You may want to change username and password for security reasons.\n",
    "\n",
    "Note that every time you stop the SageMaker Studio Lab runtime the generated images will be lost, as they are stored in the /tmp folder"
   ]
  },
  {
   "cell_type": "code",
   "execution_count": 19,
   "metadata": {
    "id": "R-xAdMA5wxXd"
   },
   "outputs": [
    {
     "name": "stdout",
     "output_type": "stream",
     "text": [
      "Saving ngrok auth token to ~/.ngrok_token\n",
      "Free disk space:\n",
      "b'Filesystem      Size  Used Avail Use% Mounted on\\n'\n",
      "b'/dev/nvme1n1     25G   21G  4.2G  84% /home/studio-lab-user\\n'\n",
      "b'overlay          27G  4.4G   23G  17% /\\n'\n",
      " \n",
      " \n",
      " \n",
      "/home/studio-lab-user/sagemaker-studiolab-notebooks/stable-diffusion-webui\n",
      "Python 3.9.13 | packaged by conda-forge | (main, May 27 2022, 16:58:50) \n",
      "[GCC 10.3.0]\n",
      "Commit hash: 0cc0ee1bcb4c24a8c9715f66cede06601bfc00c8\n",
      "Traceback (most recent call last):\n",
      "  File \"/home/studio-lab-user/sagemaker-studiolab-notebooks/stable-diffusion-webui/launch.py\", line 360, in <module>\n",
      "    prepare_environment()\n",
      "  File \"/home/studio-lab-user/sagemaker-studiolab-notebooks/stable-diffusion-webui/launch.py\", line 272, in prepare_environment\n",
      "    run_python(\"import torch; assert torch.cuda.is_available(), 'Torch is not able to use GPU; add --skip-torch-cuda-test to COMMANDLINE_ARGS variable to disable this check'\")\n",
      "  File \"/home/studio-lab-user/sagemaker-studiolab-notebooks/stable-diffusion-webui/launch.py\", line 129, in run_python\n",
      "    return run(f'\"{python}\" -c \"{code}\"', desc, errdesc)\n",
      "  File \"/home/studio-lab-user/sagemaker-studiolab-notebooks/stable-diffusion-webui/launch.py\", line 105, in run\n",
      "    raise RuntimeError(message)\n",
      "RuntimeError: Error running command.\n",
      "Command: \"/home/studio-lab-user/.conda/envs/default/bin/python\" -c \"import torch; assert torch.cuda.is_available(), 'Torch is not able to use GPU; add --skip-torch-cuda-test to COMMANDLINE_ARGS variable to disable this check'\"\n",
      "Error code: 1\n",
      "stdout: <empty>\n",
      "stderr: Traceback (most recent call last):\n",
      "  File \"<string>\", line 1, in <module>\n",
      "AssertionError: Torch is not able to use GPU; add --skip-torch-cuda-test to COMMANDLINE_ARGS variable to disable this check\n",
      "\n",
      "\n"
     ]
    }
   ],
   "source": [
    "##################################\n",
    "\n",
    "WEBUI_USERNAME=\"b28\"\n",
    "WEBUI_PASSWORD=\"Ff-701028\"\n",
    "\n",
    "##################################\n",
    "\n",
    "import subprocess\n",
    "import os\n",
    "import sys\n",
    "\n",
    "ngrok_token = \"\"\n",
    "\n",
    "# Check if ngrok token exists\n",
    "if 'ngrok_token_textbox' in locals():\n",
    "    print(\"Saving ngrok auth token to ~/.ngrok_token\")\n",
    "    !echo -n \"{ngrok_token_textbox.value}\" > ~/.ngrok_token\n",
    "    ngrok_token = ngrok_token_textbox.value\n",
    "\n",
    "else:\n",
    "    full_path = os.path.expanduser('~/.ngrok_token')\n",
    "    if not os.path.exists(full_path):\n",
    "        #print('\u001b[1;31mNo ngrok auth token found')\n",
    "        sys.exit(\"No ngrok auth token found\")\n",
    "    else:\n",
    "        with open(full_path) as f:\n",
    "            ngrok_token = f.readline()\n",
    "        print(\"Using ngrok auth token from ~/.ngrok_token\")\n",
    "\n",
    "# create /tmp/outputs folder for storing generated images for this session\n",
    "!mkdir -p /tmp/outputs\n",
    "!mkdir -p /tmp/models\n",
    "\n",
    "# show free disk space\n",
    "print(\"Free disk space:\")\n",
    "print(subprocess.check_output('df -h | grep Avail', shell=True))\n",
    "print(subprocess.check_output('df -h | grep home', shell=True))\n",
    "print(subprocess.check_output('df -h | grep overlay', shell=True))\n",
    "print(\" \")\n",
    "print(\" \")\n",
    "print(\" \")\n",
    "\n",
    "# launch webui\n",
    "%cd ~/sagemaker-studiolab-notebooks/stable-diffusion-webui\n",
    "ARGS = \"\\\"--disable-console-progressbars --gradio-debug --gradio-auth \" + WEBUI_USERNAME + \":\" + WEBUI_PASSWORD + \" --ngrok \" + ngrok_token + \"\\\"\"\n",
    "!COMMANDLINE_ARGS=$ARGS REQS_FILE=\"requirements.txt\" python launch.py\n"
   ]
  },
  {
   "cell_type": "markdown",
   "metadata": {},
   "source": [
    "Commandline arguments are:\n",
    "  - `--share` - create online gradio.app link (currently this doesn't work on SageMaker SL)\n",
    "  - `--gradio-debug` - print outputs to console\n",
    "  - `--ngrok` - start ngrok reverse proxy with supplied auth token"
   ]
  },
  {
   "cell_type": "markdown",
   "metadata": {
    "id": "9qrpRUJpno7L",
    "tags": []
   },
   "source": [
    "End: Commands for ***after*** you're done with a session\n",
    "============================================================================\n",
    "Click the square stop button before running these cells"
   ]
  },
  {
   "cell_type": "markdown",
   "metadata": {
    "id": "zB-L8JpElKp-",
    "tags": []
   },
   "source": [
    "### Create .tar.gz archive of images for downloading \n",
    "\n",
    "Location will be `~/sagemaker-studiolab-notebooks/tmp/outputs.tar.gz` and `/tmp/outputs.tar.gz`"
   ]
  },
  {
   "cell_type": "code",
   "execution_count": null,
   "metadata": {},
   "outputs": [],
   "source": [
    "%cd /tmp\n",
    "!echo \"Creating archive. Please wait...\"\n",
    "!tar -czf /tmp/outputs.tar.gz outputs\n",
    "!echo \"You can now download the archive with generated images\""
   ]
  }
 ],
 "metadata": {
  "accelerator": "GPU",
  "colab": {
   "collapsed_sections": [
    "9qrpRUJpno7L"
   ],
   "provenance": []
  },
  "gpuClass": "standard",
  "kernelspec": {
   "display_name": "default:Python",
   "language": "python",
   "name": "conda-env-default-py"
  },
  "language_info": {
   "codemirror_mode": {
    "name": "ipython",
    "version": 3
   },
   "file_extension": ".py",
   "mimetype": "text/x-python",
   "name": "python",
   "nbconvert_exporter": "python",
   "pygments_lexer": "ipython3",
   "version": "3.9.13"
  }
 },
 "nbformat": 4,
 "nbformat_minor": 4
}
